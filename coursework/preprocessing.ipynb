{
 "metadata": {
  "language_info": {
   "codemirror_mode": {
    "name": "ipython",
    "version": 3
   },
   "file_extension": ".py",
   "mimetype": "text/x-python",
   "name": "python",
   "nbconvert_exporter": "python",
   "pygments_lexer": "ipython3",
   "version": "3.8.5-final"
  },
  "orig_nbformat": 2,
  "kernelspec": {
   "name": "python3",
   "display_name": "Python 3.8.5 64-bit ('venv': venv)",
   "metadata": {
    "interpreter": {
     "hash": "7c8d61a4b2811e96e546137d6e3bd4c53f43891f7da4ddfc0abd6f07cdb1f289"
    }
   }
  }
 },
 "nbformat": 4,
 "nbformat_minor": 2,
 "cells": [
  {
   "source": [
    "# INM713 SWT & KG Coursework Dataset Preprocessing"
   ],
   "cell_type": "markdown",
   "metadata": {}
  },
  {
   "cell_type": "code",
   "execution_count": 120,
   "metadata": {},
   "outputs": [],
   "source": [
    "import re\n",
    "import pandas as pd\n",
    "import spacy\n",
    "from fuzzywuzzy import process, fuzz"
   ]
  },
  {
   "cell_type": "code",
   "execution_count": 121,
   "metadata": {},
   "outputs": [],
   "source": [
    "%%capture\n",
    "!python -m spacy download en"
   ]
  },
  {
   "cell_type": "code",
   "execution_count": 122,
   "metadata": {},
   "outputs": [],
   "source": [
    "sp = spacy.load('en_core_web_sm')"
   ]
  },
  {
   "cell_type": "code",
   "execution_count": 137,
   "metadata": {},
   "outputs": [],
   "source": [
    "pd.set_option('display.max_rows', None)\n",
    "pd.set_option('display.max_colwidth', None)"
   ]
  },
  {
   "cell_type": "code",
   "execution_count": 123,
   "metadata": {},
   "outputs": [],
   "source": [
    "df = pd.read_csv(\"INM713_coursework_data_pizza_8358_1_reduced.csv\")"
   ]
  },
  {
   "source": [
    "## Preprocessing\n",
    "### Column name tidy"
   ],
   "cell_type": "markdown",
   "metadata": {}
  },
  {
   "cell_type": "code",
   "execution_count": 124,
   "metadata": {},
   "outputs": [],
   "source": [
    "df.columns = df.columns.str.replace(\" \", \"_\").str.lower()"
   ]
  },
  {
   "cell_type": "code",
   "execution_count": 125,
   "metadata": {},
   "outputs": [
    {
     "output_type": "execute_result",
     "data": {
      "text/plain": [
       "                    name                                  address  city  \\\n",
       "0  Little Pizza Paradise  Cascade Village Mall Across From Target  Bend   \n",
       "\n",
       "  country postcode state   categories     menu_item  item_value currency  \\\n",
       "0      US    97701    OR  Pizza Place  Bianca Pizza        22.5      USD   \n",
       "\n",
       "  item_description  \n",
       "0              NaN  "
      ],
      "text/html": "<div>\n<style scoped>\n    .dataframe tbody tr th:only-of-type {\n        vertical-align: middle;\n    }\n\n    .dataframe tbody tr th {\n        vertical-align: top;\n    }\n\n    .dataframe thead th {\n        text-align: right;\n    }\n</style>\n<table border=\"1\" class=\"dataframe\">\n  <thead>\n    <tr style=\"text-align: right;\">\n      <th></th>\n      <th>name</th>\n      <th>address</th>\n      <th>city</th>\n      <th>country</th>\n      <th>postcode</th>\n      <th>state</th>\n      <th>categories</th>\n      <th>menu_item</th>\n      <th>item_value</th>\n      <th>currency</th>\n      <th>item_description</th>\n    </tr>\n  </thead>\n  <tbody>\n    <tr>\n      <th>0</th>\n      <td>Little Pizza Paradise</td>\n      <td>Cascade Village Mall Across From Target</td>\n      <td>Bend</td>\n      <td>US</td>\n      <td>97701</td>\n      <td>OR</td>\n      <td>Pizza Place</td>\n      <td>Bianca Pizza</td>\n      <td>22.5</td>\n      <td>USD</td>\n      <td>NaN</td>\n    </tr>\n  </tbody>\n</table>\n</div>"
     },
     "metadata": {},
     "execution_count": 125
    }
   ],
   "source": [
    "df.head(1)"
   ]
  },
  {
   "source": [
    "### Create index column"
   ],
   "cell_type": "markdown",
   "metadata": {}
  },
  {
   "cell_type": "code",
   "execution_count": 126,
   "metadata": {},
   "outputs": [
    {
     "output_type": "execute_result",
     "data": {
      "text/plain": [
       "   index                   name                                  address  \\\n",
       "0      0  Little Pizza Paradise  Cascade Village Mall Across From Target   \n",
       "\n",
       "   city country postcode state   categories     menu_item  item_value  \\\n",
       "0  Bend      US    97701    OR  Pizza Place  Bianca Pizza        22.5   \n",
       "\n",
       "  currency item_description  \n",
       "0      USD              NaN  "
      ],
      "text/html": "<div>\n<style scoped>\n    .dataframe tbody tr th:only-of-type {\n        vertical-align: middle;\n    }\n\n    .dataframe tbody tr th {\n        vertical-align: top;\n    }\n\n    .dataframe thead th {\n        text-align: right;\n    }\n</style>\n<table border=\"1\" class=\"dataframe\">\n  <thead>\n    <tr style=\"text-align: right;\">\n      <th></th>\n      <th>index</th>\n      <th>name</th>\n      <th>address</th>\n      <th>city</th>\n      <th>country</th>\n      <th>postcode</th>\n      <th>state</th>\n      <th>categories</th>\n      <th>menu_item</th>\n      <th>item_value</th>\n      <th>currency</th>\n      <th>item_description</th>\n    </tr>\n  </thead>\n  <tbody>\n    <tr>\n      <th>0</th>\n      <td>0</td>\n      <td>Little Pizza Paradise</td>\n      <td>Cascade Village Mall Across From Target</td>\n      <td>Bend</td>\n      <td>US</td>\n      <td>97701</td>\n      <td>OR</td>\n      <td>Pizza Place</td>\n      <td>Bianca Pizza</td>\n      <td>22.5</td>\n      <td>USD</td>\n      <td>NaN</td>\n    </tr>\n  </tbody>\n</table>\n</div>"
     },
     "metadata": {},
     "execution_count": 126
    }
   ],
   "source": [
    "df = df.reset_index()\n",
    "df.head(1)"
   ]
  },
  {
   "source": [
    "### String matching within column for menu items\n",
    "\n",
    "<https://towardsdatascience.com/fuzzywuzzy-find-similar-strings-within-one-column-in-a-pandas-data-frame-99f6c2a0c212>\n",
    "\n",
    "<https://stackoverflow.com/questions/31806695/when-to-use-which-fuzz-function-to-compare-2-strings/31823872>"
   ],
   "cell_type": "markdown",
   "metadata": {}
  },
  {
   "cell_type": "code",
   "execution_count": 127,
   "metadata": {},
   "outputs": [
    {
     "output_type": "execute_result",
     "data": {
      "text/plain": [
       "   index                        menu_item\n",
       "0      0                     Bianca Pizza\n",
       "1      1                     Cheese Pizza\n",
       "2      2                Pizza, Margherita\n",
       "3      3                  Pizza, Mushroom\n",
       "4      4                Pizza, Puttenesca\n",
       "5      5           Pizza, Salami Piccante\n",
       "6      6  Pizza, White Truffle Meat Sauce\n",
       "7      7                     Cheese Pizza\n",
       "8      8                   Hawaiian Pizza\n",
       "9      9                 Meat Lover Pizza"
      ],
      "text/html": "<div>\n<style scoped>\n    .dataframe tbody tr th:only-of-type {\n        vertical-align: middle;\n    }\n\n    .dataframe tbody tr th {\n        vertical-align: top;\n    }\n\n    .dataframe thead th {\n        text-align: right;\n    }\n</style>\n<table border=\"1\" class=\"dataframe\">\n  <thead>\n    <tr style=\"text-align: right;\">\n      <th></th>\n      <th>index</th>\n      <th>menu_item</th>\n    </tr>\n  </thead>\n  <tbody>\n    <tr>\n      <th>0</th>\n      <td>0</td>\n      <td>Bianca Pizza</td>\n    </tr>\n    <tr>\n      <th>1</th>\n      <td>1</td>\n      <td>Cheese Pizza</td>\n    </tr>\n    <tr>\n      <th>2</th>\n      <td>2</td>\n      <td>Pizza, Margherita</td>\n    </tr>\n    <tr>\n      <th>3</th>\n      <td>3</td>\n      <td>Pizza, Mushroom</td>\n    </tr>\n    <tr>\n      <th>4</th>\n      <td>4</td>\n      <td>Pizza, Puttenesca</td>\n    </tr>\n    <tr>\n      <th>5</th>\n      <td>5</td>\n      <td>Pizza, Salami Piccante</td>\n    </tr>\n    <tr>\n      <th>6</th>\n      <td>6</td>\n      <td>Pizza, White Truffle Meat Sauce</td>\n    </tr>\n    <tr>\n      <th>7</th>\n      <td>7</td>\n      <td>Cheese Pizza</td>\n    </tr>\n    <tr>\n      <th>8</th>\n      <td>8</td>\n      <td>Hawaiian Pizza</td>\n    </tr>\n    <tr>\n      <th>9</th>\n      <td>9</td>\n      <td>Meat Lover Pizza</td>\n    </tr>\n  </tbody>\n</table>\n</div>"
     },
     "metadata": {},
     "execution_count": 127
    }
   ],
   "source": [
    "# Extract menu_item for processing\n",
    "df_menu_items = df[[\"index\", \"menu_item\"]]\n",
    "df_menu_items.head(10)"
   ]
  },
  {
   "source": [
    "### Tidy up swapped around names\n",
    "Instead of using partial token set ratio matches in fuzzywuzzy - a bit expensive on processing"
   ],
   "cell_type": "markdown",
   "metadata": {}
  },
  {
   "cell_type": "code",
   "execution_count": 138,
   "metadata": {},
   "outputs": [],
   "source": [
    "def clean_swapped_pizza(x):\n",
    "    x = x.lower()\n",
    "    swapped_pizza_pattern = re.compile(r\"^pizza\\s?,\\s?[a-z\\s]+.$\")\n",
    "    # Matches `pizza, something asdjhgas asjdhgasd`\n",
    "    if re.search(swapped_pizza_pattern, x):\n",
    "\n",
    "        match =  re.search(swapped_pizza_pattern, x)\n",
    "        result = \" \".join(list(map(str.strip, match.group(0).split(\",\")))[::-1])\n",
    "        return result\n",
    "    else:\n",
    "        return x\n",
    "\n",
    "df_menu_items_cleaned = df_menu_items.copy(deep=True)\n",
    "df_menu_items_cleaned[\"menu_item_cleaned\"] = df_menu_items_cleaned[\"menu_item\"].apply(lambda x: clean_swapped_pizza(x))"
   ]
  },
  {
   "cell_type": "code",
   "execution_count": 144,
   "metadata": {},
   "outputs": [
    {
     "output_type": "execute_result",
     "data": {
      "text/plain": [
       "      index                  menu_item          menu_item_cleaned\n",
       "777     777     Medium 6 Topping Pizza     medium 6 topping pizza\n",
       "2181   2181               Fajita Pizza               fajita pizza\n",
       "1498   1498                 Pizza Hero                 pizza hero\n",
       "208     208                Steak Pizza                steak pizza\n",
       "2503   2503   One Topping Cheese Pizza   one topping cheese pizza\n",
       "1833   1833   Bacon Cheeseburger Pizza   bacon cheeseburger pizza\n",
       "29       29  Pizza Bagel With Mushroom  pizza bagel with mushroom\n",
       "377     377             Four Pig Pizza             four pig pizza\n",
       "3483   3483             Personal Pizza             personal pizza\n",
       "2832   2832            Vegetrian Pizza            vegetrian pizza"
      ],
      "text/html": "<div>\n<style scoped>\n    .dataframe tbody tr th:only-of-type {\n        vertical-align: middle;\n    }\n\n    .dataframe tbody tr th {\n        vertical-align: top;\n    }\n\n    .dataframe thead th {\n        text-align: right;\n    }\n</style>\n<table border=\"1\" class=\"dataframe\">\n  <thead>\n    <tr style=\"text-align: right;\">\n      <th></th>\n      <th>index</th>\n      <th>menu_item</th>\n      <th>menu_item_cleaned</th>\n    </tr>\n  </thead>\n  <tbody>\n    <tr>\n      <th>777</th>\n      <td>777</td>\n      <td>Medium 6 Topping Pizza</td>\n      <td>medium 6 topping pizza</td>\n    </tr>\n    <tr>\n      <th>2181</th>\n      <td>2181</td>\n      <td>Fajita Pizza</td>\n      <td>fajita pizza</td>\n    </tr>\n    <tr>\n      <th>1498</th>\n      <td>1498</td>\n      <td>Pizza Hero</td>\n      <td>pizza hero</td>\n    </tr>\n    <tr>\n      <th>208</th>\n      <td>208</td>\n      <td>Steak Pizza</td>\n      <td>steak pizza</td>\n    </tr>\n    <tr>\n      <th>2503</th>\n      <td>2503</td>\n      <td>One Topping Cheese Pizza</td>\n      <td>one topping cheese pizza</td>\n    </tr>\n    <tr>\n      <th>1833</th>\n      <td>1833</td>\n      <td>Bacon Cheeseburger Pizza</td>\n      <td>bacon cheeseburger pizza</td>\n    </tr>\n    <tr>\n      <th>29</th>\n      <td>29</td>\n      <td>Pizza Bagel With Mushroom</td>\n      <td>pizza bagel with mushroom</td>\n    </tr>\n    <tr>\n      <th>377</th>\n      <td>377</td>\n      <td>Four Pig Pizza</td>\n      <td>four pig pizza</td>\n    </tr>\n    <tr>\n      <th>3483</th>\n      <td>3483</td>\n      <td>Personal Pizza</td>\n      <td>personal pizza</td>\n    </tr>\n    <tr>\n      <th>2832</th>\n      <td>2832</td>\n      <td>Vegetrian Pizza</td>\n      <td>vegetrian pizza</td>\n    </tr>\n  </tbody>\n</table>\n</div>"
     },
     "metadata": {},
     "execution_count": 144
    }
   ],
   "source": [
    "df_menu_items_cleaned.sample(10)"
   ]
  },
  {
   "cell_type": "code",
   "execution_count": 154,
   "metadata": {},
   "outputs": [
    {
     "output_type": "execute_result",
     "data": {
      "text/plain": [
       "1596"
      ]
     },
     "metadata": {},
     "execution_count": 154
    }
   ],
   "source": [
    "unique_menu_items = df_menu_items_cleaned[\"menu_item_cleaned\"].unique().tolist()\n",
    "len(unique_menu_items) # 1596"
   ]
  },
  {
   "cell_type": "code",
   "execution_count": 152,
   "metadata": {},
   "outputs": [
    {
     "output_type": "execute_result",
     "data": {
      "text/plain": [
       "cheese pizza             136\n",
       "white pizza               75\n",
       "margherita pizza          64\n",
       "hawaiian pizza            54\n",
       "bbq chicken pizza         47\n",
       "pepperoni pizza           44\n",
       "buffalo chicken pizza     44\n",
       "taco pizza                34\n",
       "veggie pizza              34\n",
       "greek pizza               30\n",
       "mexican pizza             29\n",
       "sicilian pizza            24\n",
       "vegetarian pizza          21\n",
       "create your own pizza     20\n",
       "build your own pizza      18\n",
       "Name: menu_item_cleaned, dtype: int64"
      ]
     },
     "metadata": {},
     "execution_count": 152
    }
   ],
   "source": [
    "# \" pizza\" intentionally has a space preceding because we don't care about menu items JUST specificying \"pizza\"\n",
    "df_menu_items_cleaned[\"menu_item_cleaned\"][df_menu_items_cleaned[\"menu_item_cleaned\"].str.lower().str.endswith(\" pizza\")].value_counts().nlargest(15)"
   ]
  },
  {
   "cell_type": "code",
   "execution_count": null,
   "metadata": {},
   "outputs": [],
   "source": [
    "# This above list is too long and we COULD do some clustering or cross-matching on similarity, but let's work smart.\n",
    "# Let's take the most popular occurrences in this column from the EDA.\n",
    "# cheese pizza             136\n",
    "# white pizza               75\n",
    "# margherita pizza          64\n",
    "# hawaiian pizza            54\n",
    "# bbq chicken pizza         47\n",
    "# pepperoni pizza           44\n",
    "# buffalo chicken pizza     44\n",
    "# taco pizza                34\n",
    "# veggie pizza              34\n",
    "# greek pizza               30\n",
    "# mexican pizza             29\n",
    "# sicilian pizza            24\n",
    "# vegetarian pizza          21"
   ]
  },
  {
   "source": [
    "We focus on white, margherita and sicilian pizzas.\n",
    "\n"
   ],
   "cell_type": "markdown",
   "metadata": {}
  },
  {
   "cell_type": "code",
   "execution_count": 164,
   "metadata": {},
   "outputs": [],
   "source": [
    "# [\"margherita pizza\", \"pizza bianca\", \"white pizza\", \"sicilian pizza\", \"cheese pizza\"]\n",
    "\n",
    "is_pizza_mask = df_menu_items_cleaned[\"menu_item_cleaned\"].str.endswith(\"pizza\")\n",
    "margherita_mask = df_menu_items_cleaned[\"menu_item_cleaned\"].str.startswith(\"marg\")\n",
    "bianca_mask = df_menu_items_cleaned[\"menu_item_cleaned\"].str.endswith(\"bianca\")\n",
    "sicilian_mask = df_menu_items_cleaned[\"menu_item_cleaned\"].str.contains(\"sicilian\")\n",
    "cheese_mask = df_menu_items_cleaned[\"menu_item_cleaned\"].str.contains(\"cheese pizza\")\n",
    "\n",
    "df_menu_items_cleaned_selected = df_menu_items_cleaned[is_pizza_mask & (margherita_mask | bianca_mask | sicilian_mask | cheese_mask)]"
   ]
  },
  {
   "source": [
    "unique_menu_items_cleaned_selected = df_menu_items_cleaned_selected[\"menu_item_cleaned\"].unique().tolist()\n",
    "\n",
    "# # Create tuples of pizza names, matched pizza names, and the score\n",
    "score_sort = ((umi,) + i\n",
    "             for umi in unique_menu_items_cleaned_selected \n",
    "             for i in process.extract(umi, unique_menu_items_cleaned_selected, scorer=fuzz.token_set_ratio))"
   ],
   "cell_type": "code",
   "metadata": {},
   "execution_count": 208,
   "outputs": []
  },
  {
   "cell_type": "code",
   "execution_count": 209,
   "metadata": {},
   "outputs": [
    {
     "output_type": "execute_result",
     "data": {
      "text/plain": [
       " cheese pizza', 100),\n",
       " ('lotti cheese pizza', 'cheese pizza', 100),\n",
       " ('lotti cheese pizza', 'lotti cheese pizza', 100),\n",
       " ('roasted vegetable and goat cheese pizza', 'cheese pizza', 100),\n",
       " ('roasted vegetable and goat cheese pizza', 'goat cheese pizza', 100),\n",
       " ('roasted vegetable and goat cheese pizza',\n",
       "  'roasted vegetable and goat cheese pizza',\n",
       "  100),\n",
       " ('artisan cheese pizza', 'cheese pizza', 100),\n",
       " ('artisan cheese pizza', 'artisan cheese pizza', 100),\n",
       " ('pepperoni or cheese pizza', 'cheese pizza', 100),\n",
       " ('pepperoni or cheese pizza', 'small pepperoni or cheese pizza', 100),\n",
       " ('pepperoni or cheese pizza', 'pepperoni or cheese pizza', 100),\n",
       " ('pepperoni or cheese pizza', 'pepperoni cheese pizza', 100),\n",
       " ('pan cheese pizza', 'cheese pizza', 100),\n",
       " ('pan cheese pizza', 'pan cheese pizza', 100),\n",
       " ('stuffed cheese pizza', 'cheese pizza', 100),\n",
       " ('stuffed cheese pizza', 'cheesesteak stuffed cheese pizza', 100),\n",
       " ('stuffed cheese pizza', 'stuffed cheese pizza', 100),\n",
       " ('kids cheese pizza', 'cheese pizza', 100),\n",
       " ('kids cheese pizza', 'kids cheese pizza', 100),\n",
       " ('crooked cheese pizza', 'cheese pizza', 100),\n",
       " ('crooked cheese pizza', 'crooked cheese pizza', 100),\n",
       " ('individual cheese pizza', 'cheese pizza', 100),\n",
       " ('individual cheese pizza', 'individual cheese pizza', 100),\n",
       " ('wisconsin 6 cheese pizza', 'cheese pizza', 100),\n",
       " ('wisconsin 6 cheese pizza', 'wisconsin 6 cheese pizza', 100),\n",
       " ('giant cheese pizza', 'cheese pizza', 100),\n",
       " ('giant cheese pizza', 'giant cheese pizza', 100),\n",
       " ('jumbo cheese pizza', 'cheese pizza', 100),\n",
       " ('jumbo cheese pizza', 'one jumbo plain tomato and cheese pizza', 100),\n",
       " ('jumbo cheese pizza', 'jumbo cheese pizza', 100),\n",
       " ('personal cheese pizza', 'cheese pizza', 100),\n",
       " ('personal cheese pizza', 'personal cheese pizza', 100),\n",
       " ('start with a cheese pizza', 'cheese pizza', 100),\n",
       " ('start with a cheese pizza', 'start with a cheese pizza', 100),\n",
       " ('massive cheese pizza', 'cheese pizza', 100),\n",
       " ('massive cheese pizza', 'massive cheese pizza', 100),\n",
       " ('pepperoni cheese pizza', 'cheese pizza', 100),\n",
       " ('pepperoni cheese pizza', 'small pepperoni or cheese pizza', 100),\n",
       " ('pepperoni cheese pizza', 'pepperoni or cheese pizza', 100),\n",
       " ('pepperoni cheese pizza', 'pepperoni cheese pizza', 100),\n",
       " ('pepperoni cheese pizza', 'italian pepperoni four cheese pizza', 100),\n",
       " ('large sicilian cheese pizza', 'cheese pizza', 100),\n",
       " ('large sicilian cheese pizza', 'sicilian pizza', 100),\n",
       " ('large sicilian cheese pizza', 'large cheese pizza', 100),\n",
       " ('large sicilian cheese pizza', 'sicilian cheese pizza', 100),\n",
       " ('large sicilian cheese pizza', 'large sicilian cheese pizza', 100),\n",
       " ('sicilian square pizza', 'sicilian pizza', 100),\n",
       " ('sicilian square pizza', 'sicilian square pizza', 100),\n",
       " ('sicilian square pizza', 'sicilian square party tray pizza', 100),\n",
       " ('four cheese pizza', 'cheese pizza', 100),\n",
       " ('four cheese pizza', 'four cheese pizza', 100),\n",
       " ('four cheese pizza', 'italian pepperoni four cheese pizza', 100),\n",
       " ('margerita pizza', 'margerita pizza', 100),\n",
       " ('grandma sicilian pizza', 'sicilian pizza', 100),\n",
       " ('grandma sicilian pizza', 'grandma sicilian pizza', 100),\n",
       " ('new five cheese pizza', 'cheese pizza', 100),\n",
       " ('new five cheese pizza', 'five cheese pizza', 100),\n",
       " ('new five cheese pizza', 'new five cheese pizza', 100),\n",
       " ('sicilian square party tray pizza', 'sicilian pizza', 100),\n",
       " ('sicilian square party tray pizza', 'sicilian square pizza', 100),\n",
       " ('sicilian square party tray pizza', 'sicilian square party tray pizza', 100),\n",
       " ('thin crust cheese pizza', 'cheese pizza', 100),\n",
       " ('thin crust cheese pizza', 'thick or thin crust cheese pizza', 100),\n",
       " ('thin crust cheese pizza', 'thin crust cheese pizza', 100),\n",
       " ('sicilian sweet tooth thin crust pizza', 'sicilian pizza', 100),\n",
       " ('sicilian sweet tooth thin crust pizza',\n",
       "  'sicilian sweet tooth thin crust pizza',\n",
       "  100),\n",
       " ('flatbread cheese pizza', 'cheese pizza', 100),\n",
       " ('flatbread cheese pizza', 'flatbread cheese pizza', 100),\n",
       " ('shrimp and goat cheese pizza', 'cheese pizza', 100),\n",
       " ('shrimp and goat cheese pizza', 'goat cheese pizza', 100),\n",
       " ('shrimp and goat cheese pizza', 'shrimp and goat cheese pizza', 100),\n",
       " ('one topping cheese pizza', 'cheese pizza', 100),\n",
       " ('one topping cheese pizza', 'one topping cheese pizza', 100),\n",
       " ('three topping cheese pizza', 'cheese pizza', 100),\n",
       " ('three topping cheese pizza', 'three topping cheese pizza', 100),\n",
       " ('three topping cheese pizza', 'three cheese pizza', 100),\n",
       " ('two topping cheese pizza', 'cheese pizza', 100),\n",
       " ('two topping cheese pizza', 'two topping cheese pizza', 100),\n",
       " ('3 cheese pizza', 'cheese pizza', 100),\n",
       " ('3 cheese pizza', '3 cheese pizza', 100),\n",
       " ('honey blue cheese pizza', 'cheese pizza', 100),\n",
       " ('honey blue cheese pizza', 'honey blue cheese pizza', 100),\n",
       " ('yummy honey cheese pizza', 'cheese pizza', 100),\n",
       " ('yummy honey cheese pizza', 'yummy honey cheese pizza', 100),\n",
       " ('calabria special sicilian pizza', 'sicilian pizza', 100),\n",
       " ('calabria special sicilian pizza', 'calabria special sicilian pizza', 100),\n",
       " ('calabria special sicilian pizza', 'special sicilian pizza', 100),\n",
       " ('cheese sicilian pizza', 'cheese pizza', 100),\n",
       " ('cheese sicilian pizza', 'sicilian pizza', 100),\n",
       " ('cheese sicilian pizza', 'sicilian cheese pizza', 100),\n",
       " ('cheese sicilian pizza', 'large sicilian cheese pizza', 100),\n",
       " ('cheese sicilian pizza', 'cheese sicilian pizza', 100),\n",
       " ('vegetable sicilian pizza', 'sicilian pizza', 100),\n",
       " ('vegetable sicilian pizza', 'vegetable sicilian pizza', 100),\n",
       " ('our terrific cheese pizza', 'cheese pizza', 100),\n",
       " ('our terrific cheese pizza', 'our terrific cheese pizza', 100),\n",
       " ('three cheese pizza', 'cheese pizza', 100),\n",
       " ('three cheese pizza', 'three topping cheese pizza', 100),\n",
       " ('three cheese pizza', 'three cheese pizza', 100),\n",
       " ('trio cheese pizza', 'cheese pizza', 100),\n",
       " ('trio cheese pizza', 'trio cheese pizza', 100),\n",
       " ('2 medium cheese pizza', 'cheese pizza', 100),\n",
       " ('2 medium cheese pizza', 'medium cheese pizza', 100),\n",
       " ('2 medium cheese pizza', '2 medium cheese pizza', 100),\n",
       " ('1 large cheese pizza', 'cheese pizza', 100),\n",
       " ('1 large cheese pizza', 'large cheese pizza', 100),\n",
       " ('1 large cheese pizza', '1 large cheese pizza', 100),\n",
       " ('deep dish cheese pizza', 'cheese pizza', 100),\n",
       " ('deep dish cheese pizza', 'deep dish cheese pizza', 100),\n",
       " ('special sicilian pizza', 'sicilian pizza', 100),\n",
       " ('special sicilian pizza', 'calabria special sicilian pizza', 100),\n",
       " ('special sicilian pizza', 'special sicilian pizza', 100),\n",
       " ('italian pepperoni four cheese pizza', 'cheese pizza', 100),\n",
       " ('italian pepperoni four cheese pizza', 'pepperoni cheese pizza', 100),\n",
       " ('italian pepperoni four cheese pizza', 'four cheese pizza', 100),\n",
       " ('italian pepperoni four cheese pizza',\n",
       "  'italian pepperoni four cheese pizza',\n",
       "  100),\n",
       " ('meat sicilian pizza', 'sicilian pizza', 100),\n",
       " ('meat sicilian pizza', 'meat sicilian pizza', 100),\n",
       " ('veggie sicilian pizza', 'sicilian pizza', 100),\n",
       " ('veggie sicilian pizza', 'veggie sicilian pizza', 100),\n",
       " ('carolina goat cheese pizza', 'cheese pizza', 100),\n",
       " ('carolina goat cheese pizza', 'goat cheese pizza', 100),\n",
       " ('carolina goat cheese pizza', 'carolina goat cheese pizza', 100),\n",
       " ('customer appreciation large cheese pizza', 'cheese pizza', 100),\n",
       " ('customer appreciation large cheese pizza', 'large cheese pizza', 100),\n",
       " ('customer appreciation large cheese pizza',\n",
       "  'customer appreciation large cheese pizza',\n",
       "  100),\n",
       " ('margherita gourmet pizza', 'margherita pizza', 100),\n",
       " ('margherita gourmet pizza', 'margherita gourmet pizza', 100),\n",
       " ('pita bread cheese pizza', 'cheese pizza', 100),\n",
       " ('pita bread cheese pizza', 'pita bread cheese pizza', 100),\n",
       " ('margherita pizza', 'margerita pizza', 97),\n",
       " ('marguerita pizza', 'margerita pizza', 97),\n",
       " ('margerita pizza', 'margherita pizza', 97),\n",
       " ('margerita pizza', 'marguerita pizza', 97),\n",
       " ('2 large cheese pizza', 'large sicilian cheese pizza', 95),\n",
       " ('2 large cheese pizza', '1 large cheese pizza', 95),\n",
       " ('2 small cheese pizza', 'small pepperoni or cheese pizza', 95),\n",
       " ('1 large cheese pizza', '2 large cheese pizza', 95),\n",
       " ('1 large cheese pizza', 'large sicilian cheese pizza', 95),\n",
       " ('customer appreciation large cheese pizza', '2 large cheese pizza', 95),\n",
       " ('customer appreciation large cheese pizza', '1 large cheese pizza', 95),\n",
       " ('margherita pizza', 'marguerita pizza', 94),\n",
       " ('plain cheese pizza', 'pan cheese pizza', 94),\n",
       " ('marguerita pizza', 'margherita pizza', 94),\n",
       " ('pepperoni or cheese pizza', 'italian pepperoni four cheese pizza', 94),\n",
       " ('pan cheese pizza', 'plain cheese pizza', 94),\n",
       " ('italian pepperoni four cheese pizza', 'pepperoni or cheese pizza', 94),\n",
       " ('margarita pizza', 'margerita pizza', 93),\n",
       " ('margerita pizza', 'margarita pizza', 93),\n",
       " ('cheesesteak stuffed cheese pizza', '3 cheese pizza', 92),\n",
       " ('two slices of cheese pizza', '3 cheese pizza', 92),\n",
       " ('adult cheese pizza', '3 cheese pizza', 92),\n",
       " ('broad street cheese pizza', '3 cheese pizza', 92),\n",
       " ('plain cheese pizza', '3 cheese pizza', 92),\n",
       " ('small cheese pizza', '3 cheese pizza', 92),\n",
       " ('great tasting cheese pizza', '3 cheese pizza', 92),\n",
       " ('the original cheese pizza', '3 cheese pizza', 92),\n",
       " ('medium cheese pizza', '3 cheese pizza', 92),\n",
       " ('mini cheese pizza', '3 cheese pizza', 92),\n",
       " ('additional toppings cheese pizza', '3 cheese pizza', 92),\n",
       " ('slice of cheese pizza', '3 cheese pizza', 92),\n",
       " ('thick or thin crust cheese pizza', '3 cheese pizza', 92),\n",
       " ('wood oven cheese pizza', '3 cheese pizza', 92),\n",
       " ('five cheese pizza', '3 cheese pizza', 92),\n",
       " ('traditional cheese pizza', '3 cheese pizza', 92),\n",
       " ('mozzarella cheese pizza', '3 cheese pizza', 92),\n",
       " ('philly cheese pizza', '3 cheese pizza', 92),\n",
       " ('classic cheese pizza', '3 cheese pizza', 92),\n",
       " ('crispy thin cheese pizza', '3 cheese pizza', 92),\n",
       " ('steak and cheese pizza', '3 cheese pizza', 92),\n",
       " ('one jumbo plain tomato and cheese pizza', '3 cheese pizza', 92),\n",
       " ('8in mini cheese pizza', '3 cheese pizza', 92),\n",
       " ('2 small cheese pizza', '3 cheese pizza', 92),\n",
       " ('lotti cheese pizza', '3 cheese pizza', 92),\n",
       " ('roasted vegetable and goat cheese pizza', '3 cheese pizza', 92),\n",
       " ('artisan cheese pizza', '3 cheese pizza', 92),\n",
       " ('pan cheese pizza', '3 cheese pizza', 92),\n",
       " ('stuffed cheese pizza', '3 cheese pizza', 92),\n",
       " ('kids cheese pizza', '3 cheese pizza', 92),\n",
       " ('crooked cheese pizza', '3 cheese pizza', 92),\n",
       " ('individual cheese pizza', '3 cheese pizza', 92),\n",
       " ('wisconsin 6 cheese pizza', '3 cheese pizza', 92),\n",
       " ('giant cheese pizza', '3 cheese pizza', 92),\n",
       " ('jumbo cheese pizza', '3 cheese pizza', 92),\n",
       " ('personal cheese pizza', '3 cheese pizza', 92),\n",
       " ('start with a cheese pizza', '3 cheese pizza', 92),\n",
       " ('massive cheese pizza', '3 cheese pizza', 92),\n",
       " ('four cheese pizza', '3 cheese pizza', 92),\n",
       " ('new five cheese pizza', '3 cheese pizza', 92),\n",
       " ('thin crust cheese pizza', '3 cheese pizza', 92),\n",
       " ('flatbread cheese pizza', '3 cheese pizza', 92),\n",
       " ('shrimp and goat cheese pizza', '3 cheese pizza', 92),\n",
       " ('one topping cheese pizza', 'two topping cheese pizza', 92),\n",
       " ('one topping cheese pizza', '3 cheese pizza', 92),\n",
       " ('three topping cheese pizza', '3 cheese pizza', 92),\n",
       " ('two topping cheese pizza', 'one topping cheese pizza', 92),\n",
       " ('two topping cheese pizza', '3 cheese pizza', 92),\n",
       " ('3 cheese pizza', 'small pepperoni or cheese pizza', 92),\n",
       " ('3 cheese pizza', 'cheesesteak stuffed cheese pizza', 92),\n",
       " ('3 cheese pizza', 'two slices of cheese pizza', 92),\n",
       " ('honey blue cheese pizza', '3 cheese pizza', 92),\n",
       " ('yummy honey cheese pizza', '3 cheese pizza', 92),\n",
       " ('our terrific cheese pizza', '3 cheese pizza', 92),\n",
       " ('three cheese pizza', '3 cheese pizza', 92),\n",
       " ('trio cheese pizza', '3 cheese pizza', 92),\n",
       " ('2 medium cheese pizza', '3 cheese pizza', 92),\n",
       " ('deep dish cheese pizza', '3 cheese pizza', 92),\n",
       " ('carolina goat cheese pizza', '3 cheese pizza', 92),\n",
       " ('pita bread cheese pizza', '3 cheese pizza', 92),\n",
       " ('giant cheese pizza', 'goat cheese pizza', 91),\n",
       " ('one topping cheese pizza', 'three topping cheese pizza', 91),\n",
       " ('three topping cheese pizza', 'one topping cheese pizza', 91),\n",
       " ('two topping cheese pizza', 'three topping cheese pizza', 91),\n",
       " ('margarita pizza', 'margherita pizza', 90),\n",
       " ('marguerita pizza', 'margarita pizza', 90),\n",
       " ('two slices of cheese pizza', 'slice of cheese pizza', 89),\n",
       " ('slice of cheese pizza', 'two slices of cheese pizza', 89),\n",
       " ('crispy thin cheese pizza', 'thin crust cheese pizza', 89),\n",
       " ('thin crust cheese pizza', 'crispy thin cheese pizza', 89),\n",
       " ('pan cheese pizza', 'giant cheese pizza', 88),\n",
       " ('giant cheese pizza', 'pan cheese pizza', 88),\n",
       " ('honey blue cheese pizza', 'yummy honey cheese pizza', 88),\n",
       " ('yummy honey cheese pizza', 'honey blue cheese pizza', 88),\n",
       " ('cheesesteak stuffed cheese pizza', 'pan cheese pizza', 86),\n",
       " ('two slices of cheese pizza', 'pan cheese pizza', 86),\n",
       " ('adult cheese pizza', 'goat cheese pizza', 86),\n",
       " ('adult cheese pizza', 'pan cheese pizza', 86),\n",
       " ('broad street cheese pizza', 'pan cheese pizza', 86),\n",
       " ('great tasting cheese pizza', 'pan cheese pizza', 86),\n",
       " ('the original cheese pizza', 'pan cheese pizza', 86),\n",
       " ('medium cheese pizza', 'pan cheese pizza', 86),\n",
       " ('mini cheese pizza', 'plain cheese pizza', 86),\n",
       " ('additional toppings cheese pizza', 'pan cheese pizza', 86),\n",
       " ('slice of cheese pizza', 'pan cheese pizza', 86),\n",
       " ('thick or thin crust cheese pizza', 'pan cheese pizza', 86),\n",
       " ('wood oven cheese pizza', 'pan cheese pizza', 86),\n",
       " ('five cheese pizza', 'pan cheese pizza', 86),\n",
       " ('traditional cheese pizza', 'pan cheese pizza', 86),\n",
       " ('mozzarella cheese pizza', 'pan cheese pizza', 86),\n",
       " ('philly cheese pizza', 'pan cheese pizza', 86),\n",
       " ('classic cheese pizza', 'pan cheese pizza', 86),\n",
       " ('crispy thin cheese pizza', 'pan cheese pizza', 86),\n",
       " ('steak and cheese pizza', 'pan cheese pizza', 86),\n",
       " ('chicken parmigiana sicilian pizza',\n",
       "  'eggplant parmigiana sicilian pizza',\n",
       "  86),\n",
       " ('eggplant parmigiana sicilian pizza',\n",
       "  'chicken parmigiana sicilian pizza',\n",
       "  86),\n",
       " ('8in mini cheese pizza', 'pan cheese pizza', 86),\n",
       " ('lotti cheese pizza', 'goat cheese pizza', 86),\n",
       " ('lotti cheese pizza', 'pan cheese pizza', 86),\n",
       " ('roasted vegetable and goat cheese pizza', 'pan cheese pizza', 86),\n",
       " ('artisan cheese pizza', 'pan cheese pizza', 86),\n",
       " ('stuffed cheese pizza', 'pan cheese pizza', 86),\n",
       " ('kids cheese pizza', 'pan cheese pizza', 86),\n",
       " ('crooked cheese pizza', 'pan cheese pizza', 86),\n",
       " ('individual cheese pizza', 'pan cheese pizza', 86),\n",
       " ('wisconsin 6 cheese pizza', 'pan cheese pizza', 86),\n",
       " ('jumbo cheese pizza', 'pan cheese pizza', 86),\n",
       " ('personal cheese pizza', 'pan cheese pizza', 86),\n",
       " ('start with a cheese pizza', 'pan cheese pizza', 86),\n",
       " ('massive cheese pizza', 'five cheese pizza', 86),\n",
       " ('massive cheese pizza', 'pan cheese pizza', 86),\n",
       " ('four cheese pizza', 'pan cheese pizza', 86),\n",
       " ('new five cheese pizza', 'pan cheese pizza', 86),\n",
       " ('flatbread cheese pizza', 'pan cheese pizza', 86),\n",
       " ('shrimp and goat cheese pizza',\n",
       "  'roasted vegetable and goat cheese pizza',\n",
       "  86),\n",
       " ('honey blue cheese pizza', 'pan cheese pizza', 86),\n",
       " ('yummy honey cheese pizza', 'pan cheese pizza', 86),\n",
       " ('our terrific cheese pizza', 'pan cheese pizza', 86),\n",
       " ('three cheese pizza', 'pan cheese pizza', 86),\n",
       " ('trio cheese pizza', 'lotti cheese pizza', 86),\n",
       " ('trio cheese pizza', 'pan cheese pizza', 86),\n",
       " ('2 medium cheese pizza', 'pan cheese pizza', 86),\n",
       " ('deep dish cheese pizza', 'pan cheese pizza', 86),\n",
       " ('carolina goat cheese pizza', 'pan cheese pizza', 86),\n",
       " ('pita bread cheese pizza', 'pan cheese pizza', 86),\n",
       " ('sicilian style pizza', 'meat sicilian pizza', 85),\n",
       " ('sicilian works pizza', 'meat sicilian pizza', 85),\n",
       " ('classic cheese pizza', 'massive cheese pizza', 85),\n",
       " ('buffalo chicken sicilian pizza', 'chicken parmigiana sicilian pizza', 85),\n",
       " ('buffalo chicken sicilian pizza', 'meat sicilian pizza', 85),\n",
       " ('chicken parmigiana sicilian pizza', 'buffalo chicken sicilian pizza', 85),\n",
       " ('chicken parmigiana sicilian pizza', 'meat sicilian pizza', 85),\n",
       " ('eggplant parmigiana sicilian pizza', 'meat sicilian pizza', 85),\n",
       " ('margarita sicilian pizza', 'meat sicilian pizza', 85),\n",
       " ('portabello sicilian pizza', 'meat sicilian pizza', 85),\n",
       " ('sicilian slice of pizza', 'meat sicilian pizza', 85),\n",
       " ('sicilian square pizza', 'meat sicilian pizza', 85),\n",
       " ('grandma sicilian pizza', 'meat sicilian pizza', 85),\n",
       " ('sicilian square party tray pizza', 'meat sicilian pizza', 85),\n",
       " ('sicilian sweet tooth thin crust pizza', 'meat sicilian pizza', 85),\n",
       " ('flatbread cheese pizza', 'large cheese pizza', 85),\n",
       " ('calabria special sicilian pizza', 'meat sicilian pizza', 85),\n",
       " ('vegetable sicilian pizza', 'meat sicilian pizza', 85),\n",
       " ('special sicilian pizza', 'meat sicilian pizza', 85),\n",
       " ('meat sicilian pizza', 'sicilian style pizza', 85),\n",
       " ('meat sicilian pizza', 'sicilian cheese pizza', 85),\n",
       " ('meat sicilian pizza', 'sicilian works pizza', 85),\n",
       " ('veggie sicilian pizza', 'meat sicilian pizza', 85),\n",
       " ('sicilian style pizza', 'sicilian slice of pizza', 84),\n",
       " ('steak and cheese pizza', 'one jumbo plain tomato and cheese pizza', 84),\n",
       " ('sicilian slice of pizza', 'sicilian style pizza', 84),\n",
       " ('artisan cheese pizza', 'plain cheese pizza', 84),\n",
       " ('personal cheese pizza', 'pepperoni cheese pizza', 84),\n",
       " ('vegetable sicilian pizza', 'veggie sicilian pizza', 84),\n",
       " ('veggie sicilian pizza', 'vegetable sicilian pizza', 84),\n",
       " ('broad street cheese pizza', 'mini cheese pizza', 83),\n",
       " ('sicilian style pizza', 'sicilian cheese pizza', 83),\n",
       " ('great tasting cheese pizza', 'mini cheese pizza', 83),\n",
       " ('the original cheese pizza', 'mini cheese pizza', 83),\n",
       " ('additional toppings cheese pizza', 'mini cheese pizza', 83),\n",
       " ('wood oven cheese pizza', 'mini cheese pizza', 83),\n",
       " ('traditional cheese pizza', 'mini cheese pizza', 83),\n",
       " ('mozzarella cheese pizza', 'small cheese pizza', 83),\n",
       " ('philly cheese pizza', 'mini cheese pizza', 83),\n",
       " ('kids cheese pizza', 'small pepperoni or cheese pizza', 83),\n",
       " ('crooked cheese pizza', 'mini cheese pizza', 83),\n",
       " ('individual cheese pizza', 'mini cheese pizza', 83),\n",
       " ('wisconsin 6 cheese pizza', 'mini cheese pizza', 83),\n",
       " ('start with a cheese pizza', 'mini cheese pizza', 83),\n",
       " ('sicilian square pizza', 'sicilian style pizza', 83),\n",
       " ('our terrific cheese pizza', 'mini cheese pizza', 83),\n",
       " ('deep dish cheese pizza', 'mini cheese pizza', 83),\n",
       " ('pita bread cheese pizza', 'mini cheese pizza', 83),\n",
       " ('sicilian works pizza', 'sicilian style pizza', 82),\n",
       " ('sicilian works pizza', 'sicilian cheese pizza', 82),\n",
       " ('buffalo chicken sicilian pizza', 'sicilian style pizza', 82),\n",
       " ('eggplant parmigiana sicilian pizza', 'sicilian style pizza', 82),\n",
       " ('margarita sicilian pizza', 'sicilian style pizza', 82),\n",
       " ('portabello sicilian pizza', 'sicilian style pizza', 82),\n",
       " ('portabello sicilian pizza', 'sicilian works pizza', 82),\n",
       " ('sicilian slice of pizza', 'sicilian works pizza', 82),\n",
       " ('grandma sicilian pizza', 'sicilian style pizza', 82),\n",
       " ('grandma sicilian pizza', 'sicilian works pizza', 82),\n",
       " ('sicilian square party tray pizza', 'sicilian style pizza', 82),\n",
       " ('sicilian sweet tooth thin crust pizza', 'sicilian style pizza', 82),\n",
       " ('sicilian sweet tooth thin crust pizza', 'sicilian works pizza', 82),\n",
       " ('calabria special sicilian pizza', 'sicilian style pizza', 82),\n",
       " ('vegetable sicilian pizza', 'sicilian style pizza', 82),\n",
       " ('special sicilian pizza', 'sicilian style pizza', 82),\n",
       " ('veggie sicilian pizza', 'sicilian style pizza', 82),\n",
       " ('margherita flatbread pizza', 'flatbread cheese pizza', 81),\n",
       " ('margherita flatbread pizza', 'margherita gourmet pizza', 80),\n",
       " ('margherita gourmet pizza', 'margherita flatbread pizza', 80),\n",
       " ('margarita flat bread pizza', 'margherita flatbread pizza', 77),\n",
       " ('margarita flat bread pizza', 'margarita sicilian pizza', 77),\n",
       " ('margherita flatbread pizza', 'margarita flat bread pizza', 77),\n",
       " ('margerita pizza', 'margherita gourmet pizza', 77),\n",
       " ('margherita gourmet pizza', 'margerita pizza', 77),\n",
       " ('marguerita pizza', 'margherita gourmet pizza', 75),\n",
       " ('margherita gourmet pizza', 'marguerita pizza', 75),\n",
       " ('margarita flat bread pizza', 'margherita gourmet pizza', 72)]"
      ]
     },
     "metadata": {},
     "execution_count": 209
    }
   ],
   "source": [
    "score_list = list(score_sort)\n",
    "\n",
    "score_list.sort(key=lambda x: x[2], reverse=True) \n",
    "score_list\n"
   ]
  },
  {
   "cell_type": "code",
   "execution_count": 214,
   "metadata": {},
   "outputs": [],
   "source": [
    "unique_matches = set(list(zip(*score_list))[0])"
   ]
  },
  {
   "cell_type": "code",
   "execution_count": 217,
   "metadata": {},
   "outputs": [
    {
     "output_type": "execute_result",
     "data": {
      "text/plain": [
       "{'1 large cheese pizza',\n",
       " '2 large cheese pizza',\n",
       " '2 medium cheese pizza',\n",
       " '2 small cheese pizza',\n",
       " '3 cheese pizza',\n",
       " '8in mini cheese pizza',\n",
       " 'additional toppings cheese pizza',\n",
       " 'adult cheese pizza',\n",
       " 'artisan cheese pizza',\n",
       " 'broad street cheese pizza',\n",
       " 'buffalo chicken sicilian pizza',\n",
       " 'calabria special sicilian pizza',\n",
       " 'carolina goat cheese pizza',\n",
       " 'cheese pizza',\n",
       " 'cheese sicilian pizza',\n",
       " 'cheesesteak stuffed cheese pizza',\n",
       " 'chicken parmigiana sicilian pizza',\n",
       " 'classic cheese pizza',\n",
       " 'crispy thin cheese pizza',\n",
       " 'crooked cheese pizza',\n",
       " 'customer appreciation large cheese pizza',\n",
       " 'deep dish cheese pizza',\n",
       " 'eggplant parmigiana sicilian pizza',\n",
       " 'five cheese pizza',\n",
       " 'flatbread cheese pizza',\n",
       " 'four cheese pizza',\n",
       " 'giant cheese pizza',\n",
       " 'goat cheese pizza',\n",
       " 'grandma sicilian pizza',\n",
       " 'great tasting cheese pizza',\n",
       " 'honey blue cheese pizza',\n",
       " 'individual cheese pizza',\n",
       " 'italian pepperoni four cheese pizza',\n",
       " 'jumbo cheese pizza',\n",
       " 'kids cheese pizza',\n",
       " 'large cheese pizza',\n",
       " 'large sicilian cheese pizza',\n",
       " 'lotti cheese pizza',\n",
       " 'margarita flat bread pizza',\n",
       " 'margarita pizza',\n",
       " 'margarita sicilian pizza',\n",
       " 'margerita pizza',\n",
       " 'margherita flatbread pizza',\n",
       " 'margherita gourmet pizza',\n",
       " 'margherita pizza',\n",
       " 'marguerita pizza',\n",
       " 'massive cheese pizza',\n",
       " 'meat sicilian pizza',\n",
       " 'medium cheese pizza',\n",
       " 'mini cheese pizza',\n",
       " 'mozzarella cheese pizza',\n",
       " 'new five cheese pizza',\n",
       " 'one jumbo plain tomato and cheese pizza',\n",
       " 'one topping cheese pizza',\n",
       " 'our terrific cheese pizza',\n",
       " 'pan cheese pizza',\n",
       " 'pepperoni cheese pizza',\n",
       " 'pepperoni or cheese pizza',\n",
       " 'personal cheese pizza',\n",
       " 'philly cheese pizza',\n",
       " 'pita bread cheese pizza',\n",
       " 'plain cheese pizza',\n",
       " 'portabello sicilian pizza',\n",
       " 'roasted vegetable and goat cheese pizza',\n",
       " 'shrimp and goat cheese pizza',\n",
       " 'sicilian cheese pizza',\n",
       " 'sicilian pizza',\n",
       " 'sicilian slice of pizza',\n",
       " 'sicilian square party tray pizza',\n",
       " 'sicilian square pizza',\n",
       " 'sicilian style pizza',\n",
       " 'sicilian sweet tooth thin crust pizza',\n",
       " 'sicilian works pizza',\n",
       " 'slice of cheese pizza',\n",
       " 'small cheese pizza',\n",
       " 'small pepperoni or cheese pizza',\n",
       " 'special sicilian pizza',\n",
       " 'start with a cheese pizza',\n",
       " 'steak and cheese pizza',\n",
       " 'stuffed cheese pizza',\n",
       " 'the original cheese pizza',\n",
       " 'thick or thin crust cheese pizza',\n",
       " 'thin crust cheese pizza',\n",
       " 'three cheese pizza',\n",
       " 'three topping cheese pizza',\n",
       " 'traditional cheese pizza',\n",
       " 'trio cheese pizza',\n",
       " 'two slices of cheese pizza',\n",
       " 'two topping cheese pizza',\n",
       " 'vegetable sicilian pizza',\n",
       " 'veggie sicilian pizza',\n",
       " 'wisconsin 6 cheese pizza',\n",
       " 'wood oven cheese pizza',\n",
       " 'yummy honey cheese pizza'}"
      ]
     },
     "metadata": {},
     "execution_count": 217
    }
   ],
   "source": [
    "unique_matches"
   ]
  },
  {
   "cell_type": "code",
   "execution_count": null,
   "metadata": {},
   "outputs": [],
   "source": []
  }
 ]
}