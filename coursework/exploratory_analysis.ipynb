{
 "metadata": {
  "language_info": {
   "codemirror_mode": {
    "name": "ipython",
    "version": 3
   },
   "file_extension": ".py",
   "mimetype": "text/x-python",
   "name": "python",
   "nbconvert_exporter": "python",
   "pygments_lexer": "ipython3",
   "version": "3.8.5-final"
  },
  "orig_nbformat": 2,
  "kernelspec": {
   "name": "python3",
   "display_name": "Python 3.8.5 64-bit ('3.8.5')",
   "metadata": {
    "interpreter": {
     "hash": "cd1df81c2b9ec34444e9f2b4f3a2884ff8643eab2c5a897e7cc4c3d5265fb734"
    }
   }
  }
 },
 "nbformat": 4,
 "nbformat_minor": 2,
 "cells": [
  {
   "source": [
    "# INM713 SWT & KG Coursework Dataset Analysis"
   ],
   "cell_type": "markdown",
   "metadata": {}
  },
  {
   "cell_type": "code",
   "execution_count": 37,
   "metadata": {},
   "outputs": [],
   "source": [
    "import re\n",
    "import pandas as pd\n",
    "import matplotlib.pyplot as plt\n",
    "%matplotlib inline\n",
    "import seaborn as sns\n",
    "\n",
    "sns.set_theme()"
   ]
  },
  {
   "cell_type": "code",
   "execution_count": 90,
   "metadata": {},
   "outputs": [],
   "source": [
    "pd.set_option('display.max_rows', None)\n",
    "pd.set_option('display.max_colwidth', None)"
   ]
  },
  {
   "cell_type": "code",
   "execution_count": 3,
   "metadata": {},
   "outputs": [],
   "source": [
    "df = pd.read_csv(\"INM713_coursework_data_pizza_8358_1_reduced.csv\")"
   ]
  },
  {
   "cell_type": "code",
   "execution_count": 4,
   "metadata": {},
   "outputs": [
    {
     "output_type": "execute_result",
     "data": {
      "text/plain": [
       "                    name                                  address  \\\n",
       "0  Little Pizza Paradise  Cascade Village Mall Across From Target   \n",
       "1  Little Pizza Paradise  Cascade Village Mall Across From Target   \n",
       "2          The Brentwood                     148 S Barrington Ave   \n",
       "3          The Brentwood                     148 S Barrington Ave   \n",
       "4          The Brentwood                     148 S Barrington Ave   \n",
       "\n",
       "          city country postcode      state                      categories  \\\n",
       "0         Bend      US    97701         OR                     Pizza Place   \n",
       "1         Bend      US    97701         OR                     Pizza Place   \n",
       "2  Los Angeles      US    90049  Brentwood  American Restaurant,Bar,Bakery   \n",
       "3  Los Angeles      US    90049  Brentwood  American Restaurant,Bar,Bakery   \n",
       "4  Los Angeles      US    90049  Brentwood  American Restaurant,Bar,Bakery   \n",
       "\n",
       "           menu item  item value currency                  item description  \n",
       "0       Bianca Pizza       22.50      USD                               NaN  \n",
       "1       Cheese Pizza       18.95      USD                               NaN  \n",
       "2  Pizza, Margherita       12.00      USD                               NaN  \n",
       "3    Pizza, Mushroom       13.00      USD                               NaN  \n",
       "4  Pizza, Puttenesca       13.00      USD  Olives, onions, capers, tomatoes  "
      ],
      "text/html": "<div>\n<style scoped>\n    .dataframe tbody tr th:only-of-type {\n        vertical-align: middle;\n    }\n\n    .dataframe tbody tr th {\n        vertical-align: top;\n    }\n\n    .dataframe thead th {\n        text-align: right;\n    }\n</style>\n<table border=\"1\" class=\"dataframe\">\n  <thead>\n    <tr style=\"text-align: right;\">\n      <th></th>\n      <th>name</th>\n      <th>address</th>\n      <th>city</th>\n      <th>country</th>\n      <th>postcode</th>\n      <th>state</th>\n      <th>categories</th>\n      <th>menu item</th>\n      <th>item value</th>\n      <th>currency</th>\n      <th>item description</th>\n    </tr>\n  </thead>\n  <tbody>\n    <tr>\n      <th>0</th>\n      <td>Little Pizza Paradise</td>\n      <td>Cascade Village Mall Across From Target</td>\n      <td>Bend</td>\n      <td>US</td>\n      <td>97701</td>\n      <td>OR</td>\n      <td>Pizza Place</td>\n      <td>Bianca Pizza</td>\n      <td>22.50</td>\n      <td>USD</td>\n      <td>NaN</td>\n    </tr>\n    <tr>\n      <th>1</th>\n      <td>Little Pizza Paradise</td>\n      <td>Cascade Village Mall Across From Target</td>\n      <td>Bend</td>\n      <td>US</td>\n      <td>97701</td>\n      <td>OR</td>\n      <td>Pizza Place</td>\n      <td>Cheese Pizza</td>\n      <td>18.95</td>\n      <td>USD</td>\n      <td>NaN</td>\n    </tr>\n    <tr>\n      <th>2</th>\n      <td>The Brentwood</td>\n      <td>148 S Barrington Ave</td>\n      <td>Los Angeles</td>\n      <td>US</td>\n      <td>90049</td>\n      <td>Brentwood</td>\n      <td>American Restaurant,Bar,Bakery</td>\n      <td>Pizza, Margherita</td>\n      <td>12.00</td>\n      <td>USD</td>\n      <td>NaN</td>\n    </tr>\n    <tr>\n      <th>3</th>\n      <td>The Brentwood</td>\n      <td>148 S Barrington Ave</td>\n      <td>Los Angeles</td>\n      <td>US</td>\n      <td>90049</td>\n      <td>Brentwood</td>\n      <td>American Restaurant,Bar,Bakery</td>\n      <td>Pizza, Mushroom</td>\n      <td>13.00</td>\n      <td>USD</td>\n      <td>NaN</td>\n    </tr>\n    <tr>\n      <th>4</th>\n      <td>The Brentwood</td>\n      <td>148 S Barrington Ave</td>\n      <td>Los Angeles</td>\n      <td>US</td>\n      <td>90049</td>\n      <td>Brentwood</td>\n      <td>American Restaurant,Bar,Bakery</td>\n      <td>Pizza, Puttenesca</td>\n      <td>13.00</td>\n      <td>USD</td>\n      <td>Olives, onions, capers, tomatoes</td>\n    </tr>\n  </tbody>\n</table>\n</div>"
     },
     "metadata": {},
     "execution_count": 4
    }
   ],
   "source": [
    "# Quick check\n",
    "df.head(5)"
   ]
  },
  {
   "source": [
    "## Initial analysis"
   ],
   "cell_type": "markdown",
   "metadata": {}
  },
  {
   "cell_type": "code",
   "execution_count": 5,
   "metadata": {},
   "outputs": [],
   "source": [
    "df_copy = df.copy(deep=True)"
   ]
  },
  {
   "cell_type": "code",
   "execution_count": 6,
   "metadata": {},
   "outputs": [
    {
     "output_type": "execute_result",
     "data": {
      "text/plain": [
       "False    3499\n",
       "True       11\n",
       "dtype: int64"
      ]
     },
     "metadata": {},
     "execution_count": 6
    }
   ],
   "source": [
    "# Check for duplicated rows\n",
    "df_copy.duplicated().value_counts()"
   ]
  },
  {
   "cell_type": "code",
   "execution_count": 7,
   "metadata": {},
   "outputs": [
    {
     "output_type": "execute_result",
     "data": {
      "text/plain": [
       "Sicilia's Pizzeria                       96\n",
       "J & G Restaurant                         55\n",
       "Casey's General Store                    43\n",
       "The Pizza Joint                          36\n",
       "North End Pizzeria                       34\n",
       "                                         ..\n",
       "Buona Vita Pizzeria                       1\n",
       "Don Carmelo's Pizzeria                    1\n",
       "East End Kitchen - Permanently Closed     1\n",
       "Wei Chuan Kitchen                         1\n",
       "Lucky Star Lounge                         1\n",
       "Name: name, Length: 933, dtype: int64"
      ]
     },
     "metadata": {},
     "execution_count": 7
    }
   ],
   "source": [
    "# Check for restaurants without menu items\n",
    "df_copy[\"name\"].value_counts()"
   ]
  },
  {
   "source": [
    "There are no rows without menu items, but there are 11 duplicated rows. We will leave them in there, but this means I will expect to find 3499 Individuals of type MenuItem in my resulting knowledge graph."
   ],
   "cell_type": "markdown",
   "metadata": {}
  },
  {
   "cell_type": "code",
   "execution_count": 8,
   "metadata": {},
   "outputs": [
    {
     "output_type": "stream",
     "name": "stdout",
     "text": [
      "<class 'pandas.core.frame.DataFrame'>\nRangeIndex: 3510 entries, 0 to 3509\nData columns (total 11 columns):\n #   Column            Non-Null Count  Dtype  \n---  ------            --------------  -----  \n 0   name              3510 non-null   object \n 1   address           3510 non-null   object \n 2   city              3510 non-null   object \n 3   country           3510 non-null   object \n 4   postcode          3445 non-null   object \n 5   state             3510 non-null   object \n 6   categories        3510 non-null   object \n 7   menu item         3510 non-null   object \n 8   item value        2948 non-null   float64\n 9   currency          2951 non-null   object \n 10  item description  1526 non-null   object \ndtypes: float64(1), object(10)\nmemory usage: 301.8+ KB\n"
     ]
    }
   ],
   "source": [
    "# Check the completeness of the columns\n",
    "df_copy.info()"
   ]
  },
  {
   "cell_type": "code",
   "execution_count": 9,
   "metadata": {},
   "outputs": [
    {
     "output_type": "execute_result",
     "data": {
      "text/plain": [
       "US    3510\n",
       "Name: country, dtype: int64"
      ]
     },
     "metadata": {},
     "execution_count": 9
    }
   ],
   "source": [
    "# Check the country\n",
    "df_copy[\"country\"].value_counts()"
   ]
  },
  {
   "cell_type": "code",
   "execution_count": 10,
   "metadata": {},
   "outputs": [
    {
     "output_type": "execute_result",
     "data": {
      "text/plain": [
       "5     2782\n",
       "4      635\n",
       "3       66\n",
       "10      27\n",
       "Name: postcode_len, dtype: int64"
      ]
     },
     "metadata": {},
     "execution_count": 10
    }
   ],
   "source": [
    "# Check length of values in postcode column\n",
    "df_copy[\"postcode_len\"] = df_copy[\"postcode\"].astype(str).map(len)\n",
    "df_copy[\"postcode_len\"].value_counts()"
   ]
  },
  {
   "cell_type": "code",
   "execution_count": 11,
   "metadata": {},
   "outputs": [
    {
     "output_type": "execute_result",
     "data": {
      "text/plain": [
       "                      name       address          city country postcode state  \\\n",
       "25    Country Bagel Bakery  145 E Gay St  West Chester      US      NaN    PA   \n",
       "26    Country Bagel Bakery  145 E Gay St  West Chester      US      NaN    PA   \n",
       "27    Country Bagel Bakery  145 E Gay St  West Chester      US      NaN    PA   \n",
       "28    Country Bagel Bakery  145 E Gay St  West Chester      US      NaN    PA   \n",
       "29    Country Bagel Bakery  145 E Gay St  West Chester      US      NaN    PA   \n",
       "...                    ...           ...           ...     ...      ...   ...   \n",
       "3376    San Biagio's Pizza   1263 7th St        Upland      US      NaN    CA   \n",
       "3377    San Biagio's Pizza   1263 7th St        Upland      US      NaN    CA   \n",
       "3378    San Biagio's Pizza   1263 7th St        Upland      US      NaN    CA   \n",
       "3379    San Biagio's Pizza   1263 7th St        Upland      US      NaN    CA   \n",
       "3380    San Biagio's Pizza   1263 7th St        Upland      US      NaN    CA   \n",
       "\n",
       "                                             categories  \\\n",
       "25    Bagels,Bakeries,Restaurants,Restaurant,Breakfa...   \n",
       "26    Bagels,Bakeries,Restaurants,Restaurant,Breakfa...   \n",
       "27    Bagels,Bakeries,Restaurants,Restaurant,Breakfa...   \n",
       "28    Bagels,Bakeries,Restaurants,Restaurant,Breakfa...   \n",
       "29    Bagels,Bakeries,Restaurants,Restaurant,Breakfa...   \n",
       "...                                                 ...   \n",
       "3376                     Pizza Place,Italian Restaurant   \n",
       "3377                     Pizza Place,Italian Restaurant   \n",
       "3378                     Pizza Place,Italian Restaurant   \n",
       "3379                     Pizza Place,Italian Restaurant   \n",
       "3380                     Pizza Place,Italian Restaurant   \n",
       "\n",
       "                            menu item  item value currency  \\\n",
       "25                        Pizza Bagel         NaN      USD   \n",
       "26                        Pizza Bagel         NaN      USD   \n",
       "27                        Pizza Bagel         NaN      USD   \n",
       "28                Pizza Bagel (plain)        2.59      USD   \n",
       "29          Pizza Bagel With Mushroom        3.29      USD   \n",
       "...                               ...         ...      ...   \n",
       "3376                  New White Pizza       21.50      USD   \n",
       "3377                   New York Pizza        2.25      USD   \n",
       "3378                   Pizza Sandwich        4.00      USD   \n",
       "3379  Pizza Sandwich and Medium Drink        5.00      USD   \n",
       "3380                     Veggie Pizza       22.50      USD   \n",
       "\n",
       "                              item description  postcode_len  \n",
       "25                              with pepperoni             3  \n",
       "26                               with mushroom             3  \n",
       "27                   with pepperoni & mushroom             3  \n",
       "28                                         NaN             3  \n",
       "29                                         NaN             3  \n",
       "...                                        ...           ...  \n",
       "3376           Fresh tomato, garlic, and onion             3  \n",
       "3377                                       NaN             3  \n",
       "3378                                       NaN             3  \n",
       "3379                                       NaN             3  \n",
       "3380  Mushrooms, green peppers, onions, olives             3  \n",
       "\n",
       "[65 rows x 12 columns]"
      ],
      "text/html": "<div>\n<style scoped>\n    .dataframe tbody tr th:only-of-type {\n        vertical-align: middle;\n    }\n\n    .dataframe tbody tr th {\n        vertical-align: top;\n    }\n\n    .dataframe thead th {\n        text-align: right;\n    }\n</style>\n<table border=\"1\" class=\"dataframe\">\n  <thead>\n    <tr style=\"text-align: right;\">\n      <th></th>\n      <th>name</th>\n      <th>address</th>\n      <th>city</th>\n      <th>country</th>\n      <th>postcode</th>\n      <th>state</th>\n      <th>categories</th>\n      <th>menu item</th>\n      <th>item value</th>\n      <th>currency</th>\n      <th>item description</th>\n      <th>postcode_len</th>\n    </tr>\n  </thead>\n  <tbody>\n    <tr>\n      <th>25</th>\n      <td>Country Bagel Bakery</td>\n      <td>145 E Gay St</td>\n      <td>West Chester</td>\n      <td>US</td>\n      <td>NaN</td>\n      <td>PA</td>\n      <td>Bagels,Bakeries,Restaurants,Restaurant,Breakfa...</td>\n      <td>Pizza Bagel</td>\n      <td>NaN</td>\n      <td>USD</td>\n      <td>with pepperoni</td>\n      <td>3</td>\n    </tr>\n    <tr>\n      <th>26</th>\n      <td>Country Bagel Bakery</td>\n      <td>145 E Gay St</td>\n      <td>West Chester</td>\n      <td>US</td>\n      <td>NaN</td>\n      <td>PA</td>\n      <td>Bagels,Bakeries,Restaurants,Restaurant,Breakfa...</td>\n      <td>Pizza Bagel</td>\n      <td>NaN</td>\n      <td>USD</td>\n      <td>with mushroom</td>\n      <td>3</td>\n    </tr>\n    <tr>\n      <th>27</th>\n      <td>Country Bagel Bakery</td>\n      <td>145 E Gay St</td>\n      <td>West Chester</td>\n      <td>US</td>\n      <td>NaN</td>\n      <td>PA</td>\n      <td>Bagels,Bakeries,Restaurants,Restaurant,Breakfa...</td>\n      <td>Pizza Bagel</td>\n      <td>NaN</td>\n      <td>USD</td>\n      <td>with pepperoni &amp; mushroom</td>\n      <td>3</td>\n    </tr>\n    <tr>\n      <th>28</th>\n      <td>Country Bagel Bakery</td>\n      <td>145 E Gay St</td>\n      <td>West Chester</td>\n      <td>US</td>\n      <td>NaN</td>\n      <td>PA</td>\n      <td>Bagels,Bakeries,Restaurants,Restaurant,Breakfa...</td>\n      <td>Pizza Bagel (plain)</td>\n      <td>2.59</td>\n      <td>USD</td>\n      <td>NaN</td>\n      <td>3</td>\n    </tr>\n    <tr>\n      <th>29</th>\n      <td>Country Bagel Bakery</td>\n      <td>145 E Gay St</td>\n      <td>West Chester</td>\n      <td>US</td>\n      <td>NaN</td>\n      <td>PA</td>\n      <td>Bagels,Bakeries,Restaurants,Restaurant,Breakfa...</td>\n      <td>Pizza Bagel With Mushroom</td>\n      <td>3.29</td>\n      <td>USD</td>\n      <td>NaN</td>\n      <td>3</td>\n    </tr>\n    <tr>\n      <th>...</th>\n      <td>...</td>\n      <td>...</td>\n      <td>...</td>\n      <td>...</td>\n      <td>...</td>\n      <td>...</td>\n      <td>...</td>\n      <td>...</td>\n      <td>...</td>\n      <td>...</td>\n      <td>...</td>\n      <td>...</td>\n    </tr>\n    <tr>\n      <th>3376</th>\n      <td>San Biagio's Pizza</td>\n      <td>1263 7th St</td>\n      <td>Upland</td>\n      <td>US</td>\n      <td>NaN</td>\n      <td>CA</td>\n      <td>Pizza Place,Italian Restaurant</td>\n      <td>New White Pizza</td>\n      <td>21.50</td>\n      <td>USD</td>\n      <td>Fresh tomato, garlic, and onion</td>\n      <td>3</td>\n    </tr>\n    <tr>\n      <th>3377</th>\n      <td>San Biagio's Pizza</td>\n      <td>1263 7th St</td>\n      <td>Upland</td>\n      <td>US</td>\n      <td>NaN</td>\n      <td>CA</td>\n      <td>Pizza Place,Italian Restaurant</td>\n      <td>New York Pizza</td>\n      <td>2.25</td>\n      <td>USD</td>\n      <td>NaN</td>\n      <td>3</td>\n    </tr>\n    <tr>\n      <th>3378</th>\n      <td>San Biagio's Pizza</td>\n      <td>1263 7th St</td>\n      <td>Upland</td>\n      <td>US</td>\n      <td>NaN</td>\n      <td>CA</td>\n      <td>Pizza Place,Italian Restaurant</td>\n      <td>Pizza Sandwich</td>\n      <td>4.00</td>\n      <td>USD</td>\n      <td>NaN</td>\n      <td>3</td>\n    </tr>\n    <tr>\n      <th>3379</th>\n      <td>San Biagio's Pizza</td>\n      <td>1263 7th St</td>\n      <td>Upland</td>\n      <td>US</td>\n      <td>NaN</td>\n      <td>CA</td>\n      <td>Pizza Place,Italian Restaurant</td>\n      <td>Pizza Sandwich and Medium Drink</td>\n      <td>5.00</td>\n      <td>USD</td>\n      <td>NaN</td>\n      <td>3</td>\n    </tr>\n    <tr>\n      <th>3380</th>\n      <td>San Biagio's Pizza</td>\n      <td>1263 7th St</td>\n      <td>Upland</td>\n      <td>US</td>\n      <td>NaN</td>\n      <td>CA</td>\n      <td>Pizza Place,Italian Restaurant</td>\n      <td>Veggie Pizza</td>\n      <td>22.50</td>\n      <td>USD</td>\n      <td>Mushrooms, green peppers, onions, olives</td>\n      <td>3</td>\n    </tr>\n  </tbody>\n</table>\n<p>65 rows × 12 columns</p>\n</div>"
     },
     "metadata": {},
     "execution_count": 11
    }
   ],
   "source": [
    "# Check where the NaNs are for postcode_len == 3\n",
    "df_copy.loc[(df_copy[\"postcode\"].isnull())]"
   ]
  },
  {
   "cell_type": "code",
   "execution_count": 12,
   "metadata": {},
   "outputs": [
    {
     "output_type": "execute_result",
     "data": {
      "text/plain": [
       "False    3445\n",
       "True       65\n",
       "Name: postcode, dtype: int64"
      ]
     },
     "metadata": {},
     "execution_count": 12
    }
   ],
   "source": [
    "# Check the count of where postcode is NaN\n",
    "df_copy[\"postcode\"].isnull().value_counts()"
   ]
  },
  {
   "cell_type": "code",
   "execution_count": 13,
   "metadata": {},
   "outputs": [],
   "source": [
    "# df_copy[\"postcode_clean\"] = df_copy[\"postcode\"].str.isdigit().astype(str).str.zfill(5)\n",
    "# df_copy[\"postcode_clean\"].astype(str).map(len).value_counts() # Ignore NaNs: len == 3!"
   ]
  },
  {
   "cell_type": "code",
   "execution_count": 14,
   "metadata": {},
   "outputs": [
    {
     "output_type": "execute_result",
     "data": {
      "text/plain": [
       "                                              name            address  \\\n",
       "938                                 Cafe Americana        550 Main St   \n",
       "939                                 Cafe Americana        550 Main St   \n",
       "1295        The Grille At Shadowrock Sedona Hilton  90 Ridge Trail Dr   \n",
       "1434  The Allen Street Grill (hotel State College)  100 W College Ave   \n",
       "1435  The Allen Street Grill (hotel State College)  100 W College Ave   \n",
       "\n",
       "               city country    postcode state  \\\n",
       "938      Cincinnati      US  45202-5211    OH   \n",
       "939      Cincinnati      US  45202-5211    OH   \n",
       "1295         Sedona      US  86351-7390    AZ   \n",
       "1434  State College      US  16801-3838    PA   \n",
       "1435  State College      US  16801-3838    PA   \n",
       "\n",
       "                                             categories  \\\n",
       "938   Food And Dining,Restaurant Central Business Di...   \n",
       "939   Food And Dining,Restaurant Central Business Di...   \n",
       "1295                                         Restaurant   \n",
       "1434                                         Restaurant   \n",
       "1435                                         Restaurant   \n",
       "\n",
       "                     menu item  item value currency  \\\n",
       "938               Pizza Burger        3.95      USD   \n",
       "939   Pizza or Mushroom Hoagie        4.95      USD   \n",
       "1295          Thin Crust Pizza       15.00      USD   \n",
       "1434              Naan Pizza 1        7.95      USD   \n",
       "1435              Naan Pizza 2        8.95      USD   \n",
       "\n",
       "                                       item description  postcode_len  \n",
       "938                                                 NaN            10  \n",
       "939                                                 NaN            10  \n",
       "1295                                                NaN            10  \n",
       "1434      Arugula, prosciutto, parmesan and garlic oil.            10  \n",
       "1435  Smoked chicken thighs, gouda cheese, fried red...            10  "
      ],
      "text/html": "<div>\n<style scoped>\n    .dataframe tbody tr th:only-of-type {\n        vertical-align: middle;\n    }\n\n    .dataframe tbody tr th {\n        vertical-align: top;\n    }\n\n    .dataframe thead th {\n        text-align: right;\n    }\n</style>\n<table border=\"1\" class=\"dataframe\">\n  <thead>\n    <tr style=\"text-align: right;\">\n      <th></th>\n      <th>name</th>\n      <th>address</th>\n      <th>city</th>\n      <th>country</th>\n      <th>postcode</th>\n      <th>state</th>\n      <th>categories</th>\n      <th>menu item</th>\n      <th>item value</th>\n      <th>currency</th>\n      <th>item description</th>\n      <th>postcode_len</th>\n    </tr>\n  </thead>\n  <tbody>\n    <tr>\n      <th>938</th>\n      <td>Cafe Americana</td>\n      <td>550 Main St</td>\n      <td>Cincinnati</td>\n      <td>US</td>\n      <td>45202-5211</td>\n      <td>OH</td>\n      <td>Food And Dining,Restaurant Central Business Di...</td>\n      <td>Pizza Burger</td>\n      <td>3.95</td>\n      <td>USD</td>\n      <td>NaN</td>\n      <td>10</td>\n    </tr>\n    <tr>\n      <th>939</th>\n      <td>Cafe Americana</td>\n      <td>550 Main St</td>\n      <td>Cincinnati</td>\n      <td>US</td>\n      <td>45202-5211</td>\n      <td>OH</td>\n      <td>Food And Dining,Restaurant Central Business Di...</td>\n      <td>Pizza or Mushroom Hoagie</td>\n      <td>4.95</td>\n      <td>USD</td>\n      <td>NaN</td>\n      <td>10</td>\n    </tr>\n    <tr>\n      <th>1295</th>\n      <td>The Grille At Shadowrock Sedona Hilton</td>\n      <td>90 Ridge Trail Dr</td>\n      <td>Sedona</td>\n      <td>US</td>\n      <td>86351-7390</td>\n      <td>AZ</td>\n      <td>Restaurant</td>\n      <td>Thin Crust Pizza</td>\n      <td>15.00</td>\n      <td>USD</td>\n      <td>NaN</td>\n      <td>10</td>\n    </tr>\n    <tr>\n      <th>1434</th>\n      <td>The Allen Street Grill (hotel State College)</td>\n      <td>100 W College Ave</td>\n      <td>State College</td>\n      <td>US</td>\n      <td>16801-3838</td>\n      <td>PA</td>\n      <td>Restaurant</td>\n      <td>Naan Pizza 1</td>\n      <td>7.95</td>\n      <td>USD</td>\n      <td>Arugula, prosciutto, parmesan and garlic oil.</td>\n      <td>10</td>\n    </tr>\n    <tr>\n      <th>1435</th>\n      <td>The Allen Street Grill (hotel State College)</td>\n      <td>100 W College Ave</td>\n      <td>State College</td>\n      <td>US</td>\n      <td>16801-3838</td>\n      <td>PA</td>\n      <td>Restaurant</td>\n      <td>Naan Pizza 2</td>\n      <td>8.95</td>\n      <td>USD</td>\n      <td>Smoked chicken thighs, gouda cheese, fried red...</td>\n      <td>10</td>\n    </tr>\n  </tbody>\n</table>\n</div>"
     },
     "metadata": {},
     "execution_count": 14
    }
   ],
   "source": [
    "mask = (df_copy[\"postcode_len\"] == 10)\n",
    "df_copy.loc[mask].head(5)"
   ]
  },
  {
   "cell_type": "code",
   "execution_count": 15,
   "metadata": {},
   "outputs": [
    {
     "output_type": "execute_result",
     "data": {
      "text/plain": [
       "2     2434\n",
       "13     120\n",
       "9      119\n",
       "11      96\n",
       "12      86\n",
       "3       86\n",
       "10      82\n",
       "6       79\n",
       "7       66\n",
       "14      65\n",
       "4       54\n",
       "15      38\n",
       "5       35\n",
       "8       30\n",
       "18      24\n",
       "19      21\n",
       "28      20\n",
       "16      19\n",
       "21      16\n",
       "17      12\n",
       "20       5\n",
       "23       2\n",
       "22       1\n",
       "Name: state_len, dtype: int64"
      ]
     },
     "metadata": {},
     "execution_count": 15
    }
   ],
   "source": [
    "# Check length of values in state column\n",
    "df_copy[\"state_len\"] = df_copy[\"state\"].astype(str).map(len)\n",
    "df_copy[\"state_len\"].value_counts()"
   ]
  },
  {
   "cell_type": "code",
   "execution_count": 17,
   "metadata": {},
   "outputs": [
    {
     "output_type": "execute_result",
     "data": {
      "text/plain": [
       "                                    name                  address  \\\n",
       "81           Nino's Trattoria & Pizzeria          111 Lawrence Rd   \n",
       "82           Nino's Trattoria & Pizzeria          111 Lawrence Rd   \n",
       "83           Nino's Trattoria & Pizzeria          111 Lawrence Rd   \n",
       "84           Nino's Trattoria & Pizzeria          111 Lawrence Rd   \n",
       "85           Nino's Trattoria & Pizzeria          111 Lawrence Rd   \n",
       "...                                  ...                      ...   \n",
       "3204      Angry Ham's Octane Bar & Grill              2 Beacon St   \n",
       "3273                      Cugino's Pizza         2151 Lemoine Ave   \n",
       "3332                       Primanti Bros  516 E Oakland Park Blvd   \n",
       "3385         Brio Tuscan Grille - Murray          6173 S State St   \n",
       "3475  Russo's Coal-fired Italian Kitchen         14910 Pines Blvd   \n",
       "\n",
       "                   city country postcode          state  \\\n",
       "81    Lawrence Township      US     8648  Lawrenceville   \n",
       "82    Lawrence Township      US     8648  Lawrenceville   \n",
       "83    Lawrence Township      US     8648  Lawrenceville   \n",
       "84    Lawrence Township      US     8648  Lawrenceville   \n",
       "85    Lawrence Township      US     8648  Lawrenceville   \n",
       "...                 ...     ...      ...            ...   \n",
       "3204         Framingham      US     1701  Framingham So   \n",
       "3273           Fort Lee      US     7024  West Fort Lee   \n",
       "3332    Fort Lauderdale      US    33334  Wilton Manors   \n",
       "3385     Salt Lake City      US    84107  Salt Lake Cty   \n",
       "3475          Hollywood      US    33027  Pembroke Pnes   \n",
       "\n",
       "                                             categories  \\\n",
       "81    Pizza Place,Italian Restaurant,Restaurants,Piz...   \n",
       "82    Pizza Place,Italian Restaurant,Restaurants,Piz...   \n",
       "83    Pizza Place,Italian Restaurant,Restaurants,Piz...   \n",
       "84    Pizza Place,Italian Restaurant,Restaurants,Piz...   \n",
       "85    Pizza Place,Italian Restaurant,Restaurants,Piz...   \n",
       "...                                                 ...   \n",
       "3204                            American Restaurant,Bar   \n",
       "3273                                        Pizza Place   \n",
       "3332  Italian Restaurants,Bars,Pizza,Taverns,Restaur...   \n",
       "3385                                         Restaurant   \n",
       "3475                 Italian Restaurant and Pizza Place   \n",
       "\n",
       "                             menu item  item value currency  \\\n",
       "81                           Blt Pizza       19.95      USD   \n",
       "82                        Cheese Pizza       11.95      USD   \n",
       "83                        Cheese Pizza       11.95      USD   \n",
       "84                  Cheese Pizza Slice        2.00      USD   \n",
       "85    Cheesesteak Stuffed Cheese Pizza       22.95      USD   \n",
       "...                                ...         ...      ...   \n",
       "3204              Creat Your Own Pizza       16.00      USD   \n",
       "3273                       White Pizza       14.95      USD   \n",
       "3332               Family Pizza Nights        1.50      USD   \n",
       "3385           Sausage Onion Jam Pizza        8.95      USD   \n",
       "3475        The New Yorker Party Pizza       69.95      USD   \n",
       "\n",
       "                              item description  postcode_len  state_len  \n",
       "81                                         NaN             4         13  \n",
       "82                                         NaN             4         13  \n",
       "83    Classic cheese or create your own pizza.             4         13  \n",
       "84                                         NaN             4         13  \n",
       "85                                         NaN             4         13  \n",
       "...                                        ...           ...        ...  \n",
       "3204                                       NaN             4         13  \n",
       "3273                                       NaN             4         13  \n",
       "3332                                       NaN             5         13  \n",
       "3385    Boursin, mozzarella, arugula, parmesan             5         13  \n",
       "3475                                       NaN             5         13  \n",
       "\n",
       "[120 rows x 13 columns]"
      ],
      "text/html": "<div>\n<style scoped>\n    .dataframe tbody tr th:only-of-type {\n        vertical-align: middle;\n    }\n\n    .dataframe tbody tr th {\n        vertical-align: top;\n    }\n\n    .dataframe thead th {\n        text-align: right;\n    }\n</style>\n<table border=\"1\" class=\"dataframe\">\n  <thead>\n    <tr style=\"text-align: right;\">\n      <th></th>\n      <th>name</th>\n      <th>address</th>\n      <th>city</th>\n      <th>country</th>\n      <th>postcode</th>\n      <th>state</th>\n      <th>categories</th>\n      <th>menu item</th>\n      <th>item value</th>\n      <th>currency</th>\n      <th>item description</th>\n      <th>postcode_len</th>\n      <th>state_len</th>\n    </tr>\n  </thead>\n  <tbody>\n    <tr>\n      <th>81</th>\n      <td>Nino's Trattoria &amp; Pizzeria</td>\n      <td>111 Lawrence Rd</td>\n      <td>Lawrence Township</td>\n      <td>US</td>\n      <td>8648</td>\n      <td>Lawrenceville</td>\n      <td>Pizza Place,Italian Restaurant,Restaurants,Piz...</td>\n      <td>Blt Pizza</td>\n      <td>19.95</td>\n      <td>USD</td>\n      <td>NaN</td>\n      <td>4</td>\n      <td>13</td>\n    </tr>\n    <tr>\n      <th>82</th>\n      <td>Nino's Trattoria &amp; Pizzeria</td>\n      <td>111 Lawrence Rd</td>\n      <td>Lawrence Township</td>\n      <td>US</td>\n      <td>8648</td>\n      <td>Lawrenceville</td>\n      <td>Pizza Place,Italian Restaurant,Restaurants,Piz...</td>\n      <td>Cheese Pizza</td>\n      <td>11.95</td>\n      <td>USD</td>\n      <td>NaN</td>\n      <td>4</td>\n      <td>13</td>\n    </tr>\n    <tr>\n      <th>83</th>\n      <td>Nino's Trattoria &amp; Pizzeria</td>\n      <td>111 Lawrence Rd</td>\n      <td>Lawrence Township</td>\n      <td>US</td>\n      <td>8648</td>\n      <td>Lawrenceville</td>\n      <td>Pizza Place,Italian Restaurant,Restaurants,Piz...</td>\n      <td>Cheese Pizza</td>\n      <td>11.95</td>\n      <td>USD</td>\n      <td>Classic cheese or create your own pizza.</td>\n      <td>4</td>\n      <td>13</td>\n    </tr>\n    <tr>\n      <th>84</th>\n      <td>Nino's Trattoria &amp; Pizzeria</td>\n      <td>111 Lawrence Rd</td>\n      <td>Lawrence Township</td>\n      <td>US</td>\n      <td>8648</td>\n      <td>Lawrenceville</td>\n      <td>Pizza Place,Italian Restaurant,Restaurants,Piz...</td>\n      <td>Cheese Pizza Slice</td>\n      <td>2.00</td>\n      <td>USD</td>\n      <td>NaN</td>\n      <td>4</td>\n      <td>13</td>\n    </tr>\n    <tr>\n      <th>85</th>\n      <td>Nino's Trattoria &amp; Pizzeria</td>\n      <td>111 Lawrence Rd</td>\n      <td>Lawrence Township</td>\n      <td>US</td>\n      <td>8648</td>\n      <td>Lawrenceville</td>\n      <td>Pizza Place,Italian Restaurant,Restaurants,Piz...</td>\n      <td>Cheesesteak Stuffed Cheese Pizza</td>\n      <td>22.95</td>\n      <td>USD</td>\n      <td>NaN</td>\n      <td>4</td>\n      <td>13</td>\n    </tr>\n    <tr>\n      <th>...</th>\n      <td>...</td>\n      <td>...</td>\n      <td>...</td>\n      <td>...</td>\n      <td>...</td>\n      <td>...</td>\n      <td>...</td>\n      <td>...</td>\n      <td>...</td>\n      <td>...</td>\n      <td>...</td>\n      <td>...</td>\n      <td>...</td>\n    </tr>\n    <tr>\n      <th>3204</th>\n      <td>Angry Ham's Octane Bar &amp; Grill</td>\n      <td>2 Beacon St</td>\n      <td>Framingham</td>\n      <td>US</td>\n      <td>1701</td>\n      <td>Framingham So</td>\n      <td>American Restaurant,Bar</td>\n      <td>Creat Your Own Pizza</td>\n      <td>16.00</td>\n      <td>USD</td>\n      <td>NaN</td>\n      <td>4</td>\n      <td>13</td>\n    </tr>\n    <tr>\n      <th>3273</th>\n      <td>Cugino's Pizza</td>\n      <td>2151 Lemoine Ave</td>\n      <td>Fort Lee</td>\n      <td>US</td>\n      <td>7024</td>\n      <td>West Fort Lee</td>\n      <td>Pizza Place</td>\n      <td>White Pizza</td>\n      <td>14.95</td>\n      <td>USD</td>\n      <td>NaN</td>\n      <td>4</td>\n      <td>13</td>\n    </tr>\n    <tr>\n      <th>3332</th>\n      <td>Primanti Bros</td>\n      <td>516 E Oakland Park Blvd</td>\n      <td>Fort Lauderdale</td>\n      <td>US</td>\n      <td>33334</td>\n      <td>Wilton Manors</td>\n      <td>Italian Restaurants,Bars,Pizza,Taverns,Restaur...</td>\n      <td>Family Pizza Nights</td>\n      <td>1.50</td>\n      <td>USD</td>\n      <td>NaN</td>\n      <td>5</td>\n      <td>13</td>\n    </tr>\n    <tr>\n      <th>3385</th>\n      <td>Brio Tuscan Grille - Murray</td>\n      <td>6173 S State St</td>\n      <td>Salt Lake City</td>\n      <td>US</td>\n      <td>84107</td>\n      <td>Salt Lake Cty</td>\n      <td>Restaurant</td>\n      <td>Sausage Onion Jam Pizza</td>\n      <td>8.95</td>\n      <td>USD</td>\n      <td>Boursin, mozzarella, arugula, parmesan</td>\n      <td>5</td>\n      <td>13</td>\n    </tr>\n    <tr>\n      <th>3475</th>\n      <td>Russo's Coal-fired Italian Kitchen</td>\n      <td>14910 Pines Blvd</td>\n      <td>Hollywood</td>\n      <td>US</td>\n      <td>33027</td>\n      <td>Pembroke Pnes</td>\n      <td>Italian Restaurant and Pizza Place</td>\n      <td>The New Yorker Party Pizza</td>\n      <td>69.95</td>\n      <td>USD</td>\n      <td>NaN</td>\n      <td>5</td>\n      <td>13</td>\n    </tr>\n  </tbody>\n</table>\n<p>120 rows × 13 columns</p>\n</div>"
     },
     "metadata": {},
     "execution_count": 17
    }
   ],
   "source": [
    "# Check what these long values are\n",
    "df_copy.loc[df_copy[\"state_len\"] == 13]"
   ]
  },
  {
   "cell_type": "code",
   "execution_count": 18,
   "metadata": {},
   "outputs": [
    {
     "output_type": "execute_result",
     "data": {
      "text/plain": [
       "USD    2951\n",
       "Name: currency, dtype: int64"
      ]
     },
     "metadata": {},
     "execution_count": 18
    }
   ],
   "source": [
    "# Check the currency\n",
    "df_copy[\"currency\"].value_counts()"
   ]
  },
  {
   "cell_type": "code",
   "execution_count": 46,
   "metadata": {},
   "outputs": [
    {
     "output_type": "execute_result",
     "data": {
      "text/plain": [
       "True    3510\n",
       "Name: menu item, dtype: int64"
      ]
     },
     "metadata": {},
     "execution_count": 46
    }
   ],
   "source": [
    "# Double check if all menu items are something to do with pizza\n",
    "df_copy[\"menu item\"].str.lower().str.contains(\"pizza\").value_counts()"
   ]
  },
  {
   "cell_type": "code",
   "execution_count": 59,
   "metadata": {},
   "outputs": [
    {
     "output_type": "execute_result",
     "data": {
      "text/plain": [
       "Cheese Pizza             136\n",
       "White Pizza               75\n",
       "Margherita Pizza          63\n",
       "Pizza                     62\n",
       "Hawaiian Pizza            54\n",
       "Pizza Burger              50\n",
       "Bbq Chicken Pizza         47\n",
       "Buffalo Chicken Pizza     44\n",
       "Pepperoni Pizza           44\n",
       "Veggie Pizza              34\n",
       "Name: menu item, dtype: int64"
      ]
     },
     "metadata": {},
     "execution_count": 59
    }
   ],
   "source": [
    "df_copy[\"menu item\"].value_counts().nlargest(10)"
   ]
  },
  {
   "cell_type": "code",
   "execution_count": 65,
   "metadata": {},
   "outputs": [
    {
     "output_type": "execute_result",
     "data": {
      "text/plain": [
       "True     2431\n",
       "False    1079\n",
       "Name: menu item, dtype: int64"
      ]
     },
     "metadata": {},
     "execution_count": 65
    }
   ],
   "source": [
    "# Check how many of these menu items are pizzas - we assume that a pizza will be described in the format of <name> pizza\n",
    "df_copy[\"menu item\"].str.lower().str.endswith(\"pizza\").value_counts()"
   ]
  },
  {
   "cell_type": "code",
   "execution_count": 76,
   "metadata": {},
   "outputs": [
    {
     "output_type": "execute_result",
     "data": {
      "text/plain": [
       "Cheese Pizza               136\n",
       "White Pizza                 75\n",
       "Margherita Pizza            63\n",
       "Pizza                       62\n",
       "Hawaiian Pizza              54\n",
       "Bbq Chicken Pizza           47\n",
       "Buffalo Chicken Pizza       44\n",
       "Pepperoni Pizza             44\n",
       "Taco Pizza                  34\n",
       "Veggie Pizza                34\n",
       "Greek Pizza                 30\n",
       "Mexican Pizza               29\n",
       "Sicilian Pizza              24\n",
       "Vegetarian Pizza            21\n",
       "Create Your Own Pizza       20\n",
       "Build Your Own Pizza        18\n",
       "Breakfast Pizza             17\n",
       "Margarita Pizza             16\n",
       "Meat Lovers Pizza           14\n",
       "Specialty Pizza             13\n",
       "Chicago Deep Dish Pizza     11\n",
       "Any Large Pizza             10\n",
       "Pita Pizza                  10\n",
       "Sausage Onion Jam Pizza     10\n",
       "Mediterranean Pizza          9\n",
       "Seafood Pizza                9\n",
       "Supreme Pizza                8\n",
       "Deluxe Pizza                 8\n",
       "Tuna Pizza                   8\n",
       "Kids Pizza                   8\n",
       "Name: menu item, dtype: int64"
      ]
     },
     "metadata": {},
     "execution_count": 76
    }
   ],
   "source": [
    "# Based on our above assumption, check what sort of common typed pizza distribution we have\n",
    "df_copy[\"menu item\"][df_copy[\"menu item\"].str.lower().str.endswith(\"pizza\")].value_counts().nlargest(30)"
   ]
  },
  {
   "cell_type": "code",
   "execution_count": 24,
   "metadata": {},
   "outputs": [
    {
     "output_type": "execute_result",
     "data": {
      "text/plain": [
       "count    2948.000000\n",
       "mean       12.479186\n",
       "std        13.398923\n",
       "min         0.000000\n",
       "25%         7.500000\n",
       "50%        11.870000\n",
       "75%        15.950000\n",
       "max       312.950000\n",
       "Name: item value, dtype: float64"
      ]
     },
     "metadata": {},
     "execution_count": 24
    }
   ],
   "source": [
    "# Check range of values for item value/price\n",
    "df_copy[\"item value\"].describe()"
   ]
  },
  {
   "cell_type": "code",
   "execution_count": 41,
   "metadata": {},
   "outputs": [
    {
     "output_type": "stream",
     "name": "stderr",
     "text": [
      "/Users/fei/.pyenv/versions/3.8.5/lib/python3.8/site-packages/seaborn/_decorators.py:36: FutureWarning: Pass the following variable as a keyword arg: x. From version 0.12, the only valid positional argument will be `data`, and passing other arguments without an explicit keyword will result in an error or misinterpretation.\n  warnings.warn(\n"
     ]
    },
    {
     "output_type": "display_data",
     "data": {
      "text/plain": "<Figure size 842.4x595.44 with 1 Axes>",
      "image/svg+xml": "<?xml version=\"1.0\" encoding=\"utf-8\" standalone=\"no\"?>\n<!DOCTYPE svg PUBLIC \"-//W3C//DTD SVG 1.1//EN\"\n  \"http://www.w3.org/Graphics/SVG/1.1/DTD/svg11.dtd\">\n<!-- Created with matplotlib (https://matplotlib.org/) -->\n<svg height=\"498.491419pt\" version=\"1.1\" viewBox=\"0 0 667.26 498.491419\" width=\"667.26pt\" xmlns=\"http://www.w3.org/2000/svg\" xmlns:xlink=\"http://www.w3.org/1999/xlink\">\n <metadata>\n  <rdf:RDF xmlns:cc=\"http://creativecommons.org/ns#\" xmlns:dc=\"http://purl.org/dc/elements/1.1/\" xmlns:rdf=\"http://www.w3.org/1999/02/22-rdf-syntax-ns#\">\n   <cc:Work>\n    <dc:type rdf:resource=\"http://purl.org/dc/dcmitype/StillImage\"/>\n    <dc:date>2021-03-12T03:26:47.505904</dc:date>\n    <dc:format>image/svg+xml</dc:format>\n    <dc:creator>\n     <cc:Agent>\n      <dc:title>Matplotlib v3.3.4, https://matplotlib.org/</dc:title>\n     </cc:Agent>\n    </dc:creator>\n   </cc:Work>\n  </rdf:RDF>\n </metadata>\n <defs>\n  <style type=\"text/css\">*{stroke-linecap:butt;stroke-linejoin:round;}</style>\n </defs>\n <g id=\"figure_1\">\n  <g id=\"patch_1\">\n   <path d=\"M -0 498.491419 \nL 667.26 498.491419 \nL 667.26 0 \nL -0 0 \nz\n\" style=\"fill:#ffffff;\"/>\n  </g>\n  <g id=\"axes_1\">\n   <g id=\"patch_2\">\n    <path d=\"M 7.2 456.7572 \nL 660.06 456.7572 \nL 660.06 7.2 \nL 7.2 7.2 \nz\n\" style=\"fill:#eaeaf2;\"/>\n   </g>\n   <g id=\"matplotlib.axis_1\">\n    <g id=\"xtick_1\">\n     <g id=\"line2d_1\">\n      <path clip-path=\"url(#p2ffc967e86)\" d=\"M 36.875455 456.7572 \nL 36.875455 7.2 \n\" style=\"fill:none;stroke:#ffffff;stroke-linecap:round;\"/>\n     </g>\n     <g id=\"text_1\">\n      <!-- 0 -->\n      <g style=\"fill:#262626;\" transform=\"translate(33.816939 474.130794)scale(0.11 -0.11)\">\n       <defs>\n        <path d=\"M 4.15625 35.296875 \nQ 4.15625 48 6.765625 55.734375 \nQ 9.375 63.484375 14.515625 67.671875 \nQ 19.671875 71.875 27.484375 71.875 \nQ 33.25 71.875 37.59375 69.546875 \nQ 41.9375 67.234375 44.765625 62.859375 \nQ 47.609375 58.5 49.21875 52.21875 \nQ 50.828125 45.953125 50.828125 35.296875 \nQ 50.828125 22.703125 48.234375 14.96875 \nQ 45.65625 7.234375 40.5 3 \nQ 35.359375 -1.21875 27.484375 -1.21875 \nQ 17.140625 -1.21875 11.234375 6.203125 \nQ 4.15625 15.140625 4.15625 35.296875 \nz\nM 13.1875 35.296875 \nQ 13.1875 17.671875 17.3125 11.828125 \nQ 21.4375 6 27.484375 6 \nQ 33.546875 6 37.671875 11.859375 \nQ 41.796875 17.71875 41.796875 35.296875 \nQ 41.796875 52.984375 37.671875 58.78125 \nQ 33.546875 64.59375 27.390625 64.59375 \nQ 21.34375 64.59375 17.71875 59.46875 \nQ 13.1875 52.9375 13.1875 35.296875 \nz\n\" id=\"ArialMT-48\"/>\n       </defs>\n       <use xlink:href=\"#ArialMT-48\"/>\n      </g>\n     </g>\n    </g>\n    <g id=\"xtick_2\">\n     <g id=\"line2d_2\">\n      <path clip-path=\"url(#p2ffc967e86)\" d=\"M 131.700361 456.7572 \nL 131.700361 7.2 \n\" style=\"fill:none;stroke:#ffffff;stroke-linecap:round;\"/>\n     </g>\n     <g id=\"text_2\">\n      <!-- 50 -->\n      <g style=\"fill:#262626;\" transform=\"translate(125.58333 474.130794)scale(0.11 -0.11)\">\n       <defs>\n        <path d=\"M 4.15625 18.75 \nL 13.375 19.53125 \nQ 14.40625 12.796875 18.140625 9.390625 \nQ 21.875 6 27.15625 6 \nQ 33.5 6 37.890625 10.78125 \nQ 42.28125 15.578125 42.28125 23.484375 \nQ 42.28125 31 38.0625 35.34375 \nQ 33.84375 39.703125 27 39.703125 \nQ 22.75 39.703125 19.328125 37.765625 \nQ 15.921875 35.84375 13.96875 32.765625 \nL 5.71875 33.84375 \nL 12.640625 70.609375 \nL 48.25 70.609375 \nL 48.25 62.203125 \nL 19.671875 62.203125 \nL 15.828125 42.96875 \nQ 22.265625 47.46875 29.34375 47.46875 \nQ 38.71875 47.46875 45.15625 40.96875 \nQ 51.609375 34.46875 51.609375 24.265625 \nQ 51.609375 14.546875 45.953125 7.46875 \nQ 39.0625 -1.21875 27.15625 -1.21875 \nQ 17.390625 -1.21875 11.203125 4.25 \nQ 5.03125 9.71875 4.15625 18.75 \nz\n\" id=\"ArialMT-53\"/>\n       </defs>\n       <use xlink:href=\"#ArialMT-53\"/>\n       <use x=\"55.615234\" xlink:href=\"#ArialMT-48\"/>\n      </g>\n     </g>\n    </g>\n    <g id=\"xtick_3\">\n     <g id=\"line2d_3\">\n      <path clip-path=\"url(#p2ffc967e86)\" d=\"M 226.525268 456.7572 \nL 226.525268 7.2 \n\" style=\"fill:none;stroke:#ffffff;stroke-linecap:round;\"/>\n     </g>\n     <g id=\"text_3\">\n      <!-- 100 -->\n      <g style=\"fill:#262626;\" transform=\"translate(217.349721 474.130794)scale(0.11 -0.11)\">\n       <defs>\n        <path d=\"M 37.25 0 \nL 28.46875 0 \nL 28.46875 56 \nQ 25.296875 52.984375 20.140625 49.953125 \nQ 14.984375 46.921875 10.890625 45.40625 \nL 10.890625 53.90625 \nQ 18.265625 57.375 23.78125 62.296875 \nQ 29.296875 67.234375 31.59375 71.875 \nL 37.25 71.875 \nz\n\" id=\"ArialMT-49\"/>\n       </defs>\n       <use xlink:href=\"#ArialMT-49\"/>\n       <use x=\"55.615234\" xlink:href=\"#ArialMT-48\"/>\n       <use x=\"111.230469\" xlink:href=\"#ArialMT-48\"/>\n      </g>\n     </g>\n    </g>\n    <g id=\"xtick_4\">\n     <g id=\"line2d_4\">\n      <path clip-path=\"url(#p2ffc967e86)\" d=\"M 321.350175 456.7572 \nL 321.350175 7.2 \n\" style=\"fill:none;stroke:#ffffff;stroke-linecap:round;\"/>\n     </g>\n     <g id=\"text_4\">\n      <!-- 150 -->\n      <g style=\"fill:#262626;\" transform=\"translate(312.174628 474.130794)scale(0.11 -0.11)\">\n       <use xlink:href=\"#ArialMT-49\"/>\n       <use x=\"55.615234\" xlink:href=\"#ArialMT-53\"/>\n       <use x=\"111.230469\" xlink:href=\"#ArialMT-48\"/>\n      </g>\n     </g>\n    </g>\n    <g id=\"xtick_5\">\n     <g id=\"line2d_5\">\n      <path clip-path=\"url(#p2ffc967e86)\" d=\"M 416.175081 456.7572 \nL 416.175081 7.2 \n\" style=\"fill:none;stroke:#ffffff;stroke-linecap:round;\"/>\n     </g>\n     <g id=\"text_5\">\n      <!-- 200 -->\n      <g style=\"fill:#262626;\" transform=\"translate(406.999534 474.130794)scale(0.11 -0.11)\">\n       <defs>\n        <path d=\"M 50.34375 8.453125 \nL 50.34375 0 \nL 3.03125 0 \nQ 2.9375 3.171875 4.046875 6.109375 \nQ 5.859375 10.9375 9.828125 15.625 \nQ 13.8125 20.3125 21.34375 26.46875 \nQ 33.015625 36.03125 37.109375 41.625 \nQ 41.21875 47.21875 41.21875 52.203125 \nQ 41.21875 57.421875 37.46875 61 \nQ 33.734375 64.59375 27.734375 64.59375 \nQ 21.390625 64.59375 17.578125 60.78125 \nQ 13.765625 56.984375 13.71875 50.25 \nL 4.6875 51.171875 \nQ 5.609375 61.28125 11.65625 66.578125 \nQ 17.71875 71.875 27.9375 71.875 \nQ 38.234375 71.875 44.234375 66.15625 \nQ 50.25 60.453125 50.25 52 \nQ 50.25 47.703125 48.484375 43.546875 \nQ 46.734375 39.40625 42.65625 34.8125 \nQ 38.578125 30.21875 29.109375 22.21875 \nQ 21.1875 15.578125 18.9375 13.203125 \nQ 16.703125 10.84375 15.234375 8.453125 \nz\n\" id=\"ArialMT-50\"/>\n       </defs>\n       <use xlink:href=\"#ArialMT-50\"/>\n       <use x=\"55.615234\" xlink:href=\"#ArialMT-48\"/>\n       <use x=\"111.230469\" xlink:href=\"#ArialMT-48\"/>\n      </g>\n     </g>\n    </g>\n    <g id=\"xtick_6\">\n     <g id=\"line2d_6\">\n      <path clip-path=\"url(#p2ffc967e86)\" d=\"M 510.999988 456.7572 \nL 510.999988 7.2 \n\" style=\"fill:none;stroke:#ffffff;stroke-linecap:round;\"/>\n     </g>\n     <g id=\"text_6\">\n      <!-- 250 -->\n      <g style=\"fill:#262626;\" transform=\"translate(501.824441 474.130794)scale(0.11 -0.11)\">\n       <use xlink:href=\"#ArialMT-50\"/>\n       <use x=\"55.615234\" xlink:href=\"#ArialMT-53\"/>\n       <use x=\"111.230469\" xlink:href=\"#ArialMT-48\"/>\n      </g>\n     </g>\n    </g>\n    <g id=\"xtick_7\">\n     <g id=\"line2d_7\">\n      <path clip-path=\"url(#p2ffc967e86)\" d=\"M 605.824895 456.7572 \nL 605.824895 7.2 \n\" style=\"fill:none;stroke:#ffffff;stroke-linecap:round;\"/>\n     </g>\n     <g id=\"text_7\">\n      <!-- 300 -->\n      <g style=\"fill:#262626;\" transform=\"translate(596.649348 474.130794)scale(0.11 -0.11)\">\n       <defs>\n        <path d=\"M 4.203125 18.890625 \nL 12.984375 20.0625 \nQ 14.5 12.59375 18.140625 9.296875 \nQ 21.78125 6 27 6 \nQ 33.203125 6 37.46875 10.296875 \nQ 41.75 14.59375 41.75 20.953125 \nQ 41.75 27 37.796875 30.921875 \nQ 33.84375 34.859375 27.734375 34.859375 \nQ 25.25 34.859375 21.53125 33.890625 \nL 22.515625 41.609375 \nQ 23.390625 41.5 23.921875 41.5 \nQ 29.546875 41.5 34.03125 44.421875 \nQ 38.53125 47.359375 38.53125 53.46875 \nQ 38.53125 58.296875 35.25 61.46875 \nQ 31.984375 64.65625 26.8125 64.65625 \nQ 21.6875 64.65625 18.265625 61.421875 \nQ 14.84375 58.203125 13.875 51.765625 \nL 5.078125 53.328125 \nQ 6.6875 62.15625 12.390625 67.015625 \nQ 18.109375 71.875 26.609375 71.875 \nQ 32.46875 71.875 37.390625 69.359375 \nQ 42.328125 66.84375 44.9375 62.5 \nQ 47.5625 58.15625 47.5625 53.265625 \nQ 47.5625 48.640625 45.0625 44.828125 \nQ 42.578125 41.015625 37.703125 38.765625 \nQ 44.046875 37.3125 47.5625 32.6875 \nQ 51.078125 28.078125 51.078125 21.140625 \nQ 51.078125 11.765625 44.234375 5.25 \nQ 37.40625 -1.265625 26.953125 -1.265625 \nQ 17.53125 -1.265625 11.296875 4.34375 \nQ 5.078125 9.96875 4.203125 18.890625 \nz\n\" id=\"ArialMT-51\"/>\n       </defs>\n       <use xlink:href=\"#ArialMT-51\"/>\n       <use x=\"55.615234\" xlink:href=\"#ArialMT-48\"/>\n       <use x=\"111.230469\" xlink:href=\"#ArialMT-48\"/>\n      </g>\n     </g>\n    </g>\n    <g id=\"text_8\">\n     <!-- item value -->\n     <g style=\"fill:#262626;\" transform=\"translate(306.285937 488.906419)scale(0.12 -0.12)\">\n      <defs>\n       <path d=\"M 6.640625 61.46875 \nL 6.640625 71.578125 \nL 15.4375 71.578125 \nL 15.4375 61.46875 \nz\nM 6.640625 0 \nL 6.640625 51.859375 \nL 15.4375 51.859375 \nL 15.4375 0 \nz\n\" id=\"ArialMT-105\"/>\n       <path d=\"M 25.78125 7.859375 \nL 27.046875 0.09375 \nQ 23.34375 -0.6875 20.40625 -0.6875 \nQ 15.625 -0.6875 12.984375 0.828125 \nQ 10.359375 2.34375 9.28125 4.8125 \nQ 8.203125 7.28125 8.203125 15.1875 \nL 8.203125 45.015625 \nL 1.765625 45.015625 \nL 1.765625 51.859375 \nL 8.203125 51.859375 \nL 8.203125 64.703125 \nL 16.9375 69.96875 \nL 16.9375 51.859375 \nL 25.78125 51.859375 \nL 25.78125 45.015625 \nL 16.9375 45.015625 \nL 16.9375 14.703125 \nQ 16.9375 10.9375 17.40625 9.859375 \nQ 17.875 8.796875 18.921875 8.15625 \nQ 19.96875 7.515625 21.921875 7.515625 \nQ 23.390625 7.515625 25.78125 7.859375 \nz\n\" id=\"ArialMT-116\"/>\n       <path d=\"M 42.09375 16.703125 \nL 51.171875 15.578125 \nQ 49.03125 7.625 43.21875 3.21875 \nQ 37.40625 -1.171875 28.375 -1.171875 \nQ 17 -1.171875 10.328125 5.828125 \nQ 3.65625 12.84375 3.65625 25.484375 \nQ 3.65625 38.578125 10.390625 45.796875 \nQ 17.140625 53.03125 27.875 53.03125 \nQ 38.28125 53.03125 44.875 45.953125 \nQ 51.46875 38.875 51.46875 26.03125 \nQ 51.46875 25.25 51.421875 23.6875 \nL 12.75 23.6875 \nQ 13.234375 15.140625 17.578125 10.59375 \nQ 21.921875 6.0625 28.421875 6.0625 \nQ 33.25 6.0625 36.671875 8.59375 \nQ 40.09375 11.140625 42.09375 16.703125 \nz\nM 13.234375 30.90625 \nL 42.1875 30.90625 \nQ 41.609375 37.453125 38.875 40.71875 \nQ 34.671875 45.796875 27.984375 45.796875 \nQ 21.921875 45.796875 17.796875 41.75 \nQ 13.671875 37.703125 13.234375 30.90625 \nz\n\" id=\"ArialMT-101\"/>\n       <path d=\"M 6.59375 0 \nL 6.59375 51.859375 \nL 14.453125 51.859375 \nL 14.453125 44.578125 \nQ 16.890625 48.390625 20.9375 50.703125 \nQ 25 53.03125 30.171875 53.03125 \nQ 35.9375 53.03125 39.625 50.640625 \nQ 43.3125 48.25 44.828125 43.953125 \nQ 50.984375 53.03125 60.84375 53.03125 \nQ 68.5625 53.03125 72.703125 48.75 \nQ 76.859375 44.484375 76.859375 35.59375 \nL 76.859375 0 \nL 68.109375 0 \nL 68.109375 32.671875 \nQ 68.109375 37.9375 67.25 40.25 \nQ 66.40625 42.578125 64.15625 43.984375 \nQ 61.921875 45.40625 58.890625 45.40625 \nQ 53.421875 45.40625 49.796875 41.765625 \nQ 46.1875 38.140625 46.1875 30.125 \nL 46.1875 0 \nL 37.40625 0 \nL 37.40625 33.6875 \nQ 37.40625 39.546875 35.25 42.46875 \nQ 33.109375 45.40625 28.21875 45.40625 \nQ 24.515625 45.40625 21.359375 43.453125 \nQ 18.21875 41.5 16.796875 37.734375 \nQ 15.375 33.984375 15.375 26.90625 \nL 15.375 0 \nz\n\" id=\"ArialMT-109\"/>\n       <path id=\"ArialMT-32\"/>\n       <path d=\"M 21 0 \nL 1.265625 51.859375 \nL 10.546875 51.859375 \nL 21.6875 20.796875 \nQ 23.484375 15.765625 25 10.359375 \nQ 26.171875 14.453125 28.265625 20.21875 \nL 39.796875 51.859375 \nL 48.828125 51.859375 \nL 29.203125 0 \nz\n\" id=\"ArialMT-118\"/>\n       <path d=\"M 40.4375 6.390625 \nQ 35.546875 2.25 31.03125 0.53125 \nQ 26.515625 -1.171875 21.34375 -1.171875 \nQ 12.796875 -1.171875 8.203125 3 \nQ 3.609375 7.171875 3.609375 13.671875 \nQ 3.609375 17.484375 5.34375 20.625 \nQ 7.078125 23.78125 9.890625 25.6875 \nQ 12.703125 27.59375 16.21875 28.5625 \nQ 18.796875 29.25 24.03125 29.890625 \nQ 34.671875 31.15625 39.703125 32.90625 \nQ 39.75 34.71875 39.75 35.203125 \nQ 39.75 40.578125 37.25 42.78125 \nQ 33.890625 45.75 27.25 45.75 \nQ 21.046875 45.75 18.09375 43.578125 \nQ 15.140625 41.40625 13.71875 35.890625 \nL 5.125 37.0625 \nQ 6.296875 42.578125 8.984375 45.96875 \nQ 11.671875 49.359375 16.75 51.1875 \nQ 21.828125 53.03125 28.515625 53.03125 \nQ 35.15625 53.03125 39.296875 51.46875 \nQ 43.453125 49.90625 45.40625 47.53125 \nQ 47.359375 45.171875 48.140625 41.546875 \nQ 48.578125 39.3125 48.578125 33.453125 \nL 48.578125 21.734375 \nQ 48.578125 9.46875 49.140625 6.21875 \nQ 49.703125 2.984375 51.375 0 \nL 42.1875 0 \nQ 40.828125 2.734375 40.4375 6.390625 \nz\nM 39.703125 26.03125 \nQ 34.90625 24.078125 25.34375 22.703125 \nQ 19.921875 21.921875 17.671875 20.9375 \nQ 15.4375 19.96875 14.203125 18.09375 \nQ 12.984375 16.21875 12.984375 13.921875 \nQ 12.984375 10.40625 15.640625 8.0625 \nQ 18.3125 5.71875 23.4375 5.71875 \nQ 28.515625 5.71875 32.46875 7.9375 \nQ 36.421875 10.15625 38.28125 14.015625 \nQ 39.703125 17 39.703125 22.796875 \nz\n\" id=\"ArialMT-97\"/>\n       <path d=\"M 6.390625 0 \nL 6.390625 71.578125 \nL 15.1875 71.578125 \nL 15.1875 0 \nz\n\" id=\"ArialMT-108\"/>\n       <path d=\"M 40.578125 0 \nL 40.578125 7.625 \nQ 34.515625 -1.171875 24.125 -1.171875 \nQ 19.53125 -1.171875 15.546875 0.578125 \nQ 11.578125 2.34375 9.640625 5 \nQ 7.71875 7.671875 6.9375 11.53125 \nQ 6.390625 14.109375 6.390625 19.734375 \nL 6.390625 51.859375 \nL 15.1875 51.859375 \nL 15.1875 23.09375 \nQ 15.1875 16.21875 15.71875 13.8125 \nQ 16.546875 10.359375 19.234375 8.375 \nQ 21.921875 6.390625 25.875 6.390625 \nQ 29.828125 6.390625 33.296875 8.421875 \nQ 36.765625 10.453125 38.203125 13.9375 \nQ 39.65625 17.4375 39.65625 24.078125 \nL 39.65625 51.859375 \nL 48.4375 51.859375 \nL 48.4375 0 \nz\n\" id=\"ArialMT-117\"/>\n      </defs>\n      <use xlink:href=\"#ArialMT-105\"/>\n      <use x=\"22.216797\" xlink:href=\"#ArialMT-116\"/>\n      <use x=\"50\" xlink:href=\"#ArialMT-101\"/>\n      <use x=\"105.615234\" xlink:href=\"#ArialMT-109\"/>\n      <use x=\"188.916016\" xlink:href=\"#ArialMT-32\"/>\n      <use x=\"216.699219\" xlink:href=\"#ArialMT-118\"/>\n      <use x=\"266.699219\" xlink:href=\"#ArialMT-97\"/>\n      <use x=\"322.314453\" xlink:href=\"#ArialMT-108\"/>\n      <use x=\"344.53125\" xlink:href=\"#ArialMT-117\"/>\n      <use x=\"400.146484\" xlink:href=\"#ArialMT-101\"/>\n     </g>\n    </g>\n   </g>\n   <g id=\"matplotlib.axis_2\">\n    <g id=\"ytick_1\"/>\n   </g>\n   <g id=\"PathCollection_1\">\n    <defs>\n     <path d=\"M -0 4.242641 \nL 2.545584 0 \nL 0 -4.242641 \nL -2.545584 -0 \nz\n\" id=\"m8d038b44c4\" style=\"stroke:#4c4c4c;\"/>\n    </defs>\n    <g clip-path=\"url(#p2ffc967e86)\">\n     <use style=\"fill:#4c4c4c;stroke:#4c4c4c;\" x=\"37.539229\" xlink:href=\"#m8d038b44c4\" y=\"231.9786\"/>\n     <use style=\"fill:#4c4c4c;stroke:#4c4c4c;\" x=\"36.875455\" xlink:href=\"#m8d038b44c4\" y=\"231.9786\"/>\n     <use style=\"fill:#4c4c4c;stroke:#4c4c4c;\" x=\"37.349579\" xlink:href=\"#m8d038b44c4\" y=\"231.9786\"/>\n     <use style=\"fill:#4c4c4c;stroke:#4c4c4c;\" x=\"262.539767\" xlink:href=\"#m8d038b44c4\" y=\"231.9786\"/>\n     <use style=\"fill:#4c4c4c;stroke:#4c4c4c;\" x=\"630.384545\" xlink:href=\"#m8d038b44c4\" y=\"231.9786\"/>\n     <use style=\"fill:#4c4c4c;stroke:#4c4c4c;\" x=\"626.591549\" xlink:href=\"#m8d038b44c4\" y=\"231.9786\"/>\n     <use style=\"fill:#4c4c4c;stroke:#4c4c4c;\" x=\"628.488047\" xlink:href=\"#m8d038b44c4\" y=\"231.9786\"/>\n     <use style=\"fill:#4c4c4c;stroke:#4c4c4c;\" x=\"630.384545\" xlink:href=\"#m8d038b44c4\" y=\"231.9786\"/>\n    </g>\n   </g>\n   <g id=\"PatchCollection_1\">\n    <path clip-path=\"url(#p2ffc967e86)\" d=\"M 37.994388 230.573734 \nL 258.746771 230.573734 \nL 258.746771 233.383466 \nL 37.994388 233.383466 \nz\n\" style=\"fill:#e6eaf1;stroke:#4c4c4c;\"/>\n    <path clip-path=\"url(#p2ffc967e86)\" d=\"M 38.771953 229.168867 \nL 130.190941 229.168867 \nL 130.190941 234.788332 \nL 38.771953 234.788332 \nz\n\" style=\"fill:#d2dae7;stroke:#4c4c4c;\"/>\n    <path clip-path=\"url(#p2ffc967e86)\" d=\"M 39.246077 226.359135 \nL 89.123978 226.359135 \nL 89.123978 237.598065 \nL 39.246077 237.598065 \nz\n\" style=\"fill:#bdc9db;stroke:#4c4c4c;\"/>\n    <path clip-path=\"url(#p2ffc967e86)\" d=\"M 40.3659 220.73967 \nL 88.763643 220.73967 \nL 88.763643 243.21753 \nL 40.3659 243.21753 \nz\n\" style=\"fill:#a9b8d0;stroke:#4c4c4c;\"/>\n    <path clip-path=\"url(#p2ffc967e86)\" d=\"M 41.6167 209.50074 \nL 82.372445 209.50074 \nL 82.372445 254.45646 \nL 41.6167 254.45646 \nz\n\" style=\"fill:#95a7c5;stroke:#4c4c4c;\"/>\n    <path clip-path=\"url(#p2ffc967e86)\" d=\"M 43.720627 187.02288 \nL 76.701915 187.02288 \nL 76.701915 276.93432 \nL 43.720627 276.93432 \nz\n\" style=\"fill:#8197ba;stroke:#4c4c4c;\"/>\n    <path clip-path=\"url(#p2ffc967e86)\" d=\"M 46.357945 142.06716 \nL 72.814094 142.06716 \nL 72.814094 321.89004 \nL 46.357945 321.89004 \nz\n\" style=\"fill:#6c86af;stroke:#4c4c4c;\"/>\n    <path clip-path=\"url(#p2ffc967e86)\" d=\"M 51.099191 52.15572 \nL 67.1246 52.15572 \nL 67.1246 411.80148 \nL 51.099191 411.80148 \nz\n\" style=\"fill:#5875a4;stroke:#4c4c4c;\"/>\n   </g>\n   <g id=\"line2d_8\">\n    <path clip-path=\"url(#p2ffc967e86)\" d=\"M 59.386887 52.15572 \nL 59.386887 411.80148 \n\" style=\"fill:none;stroke:#262626;stroke-opacity:0.45;stroke-width:1.5;\"/>\n   </g>\n   <g id=\"patch_3\">\n    <path d=\"M 7.2 456.7572 \nL 7.2 7.2 \n\" style=\"fill:none;stroke:#ffffff;stroke-linecap:square;stroke-linejoin:miter;stroke-width:1.25;\"/>\n   </g>\n   <g id=\"patch_4\">\n    <path d=\"M 660.06 456.7572 \nL 660.06 7.2 \n\" style=\"fill:none;stroke:#ffffff;stroke-linecap:square;stroke-linejoin:miter;stroke-width:1.25;\"/>\n   </g>\n   <g id=\"patch_5\">\n    <path d=\"M 7.2 456.7572 \nL 660.06 456.7572 \n\" style=\"fill:none;stroke:#ffffff;stroke-linecap:square;stroke-linejoin:miter;stroke-width:1.25;\"/>\n   </g>\n   <g id=\"patch_6\">\n    <path d=\"M 7.2 7.2 \nL 660.06 7.2 \n\" style=\"fill:none;stroke:#ffffff;stroke-linecap:square;stroke-linejoin:miter;stroke-width:1.25;\"/>\n   </g>\n  </g>\n </g>\n <defs>\n  <clipPath id=\"p2ffc967e86\">\n   <rect height=\"449.5572\" width=\"652.86\" x=\"7.2\" y=\"7.2\"/>\n  </clipPath>\n </defs>\n</svg>\n",
      "image/png": "[encoded data removed]"
     },
     "metadata": {}
    }
   ],
   "source": [
    "sns.set(rc={\"figure.figsize\":(11.7, 8.27)})\n",
    "sns.boxenplot(df_copy[\"item value\"]);"
   ]
  },
  {
   "cell_type": "code",
   "execution_count": 26,
   "metadata": {},
   "outputs": [
    {
     "output_type": "execute_result",
     "data": {
      "text/plain": [
       "                                name                  address            city  \\\n",
       "226         California Pizza Kitchen   10300 Forest Hill Blvd      Wellington   \n",
       "483         California Pizza Kitchen      3401 Esperanza Xing          Austin   \n",
       "534         California Pizza Kitchen         109 W County Ctr     Saint Louis   \n",
       "900   California Pizza Kitchen - Nyc           440 Park Ave S        New York   \n",
       "993                    Terrace Bagel  222 And 222a Prospect W        Brooklyn   \n",
       "1137        California Pizza Kitchen         11800 W Broad St         Henrico   \n",
       "2569      Eddie's Italian Restaurant        4002 Lincoln Blvd  Marina Del Rey   \n",
       "2570      Eddie's Italian Restaurant        4002 Lincoln Blvd  Marina Del Rey   \n",
       "2571      Eddie's Italian Restaurant        4002 Lincoln Blvd  Marina Del Rey   \n",
       "2573      Eddie's Italian Restaurant        4002 Lincoln Blvd  Marina Del Rey   \n",
       "\n",
       "     country postcode                  state  \\\n",
       "226       US    33414  Village Of Wellington   \n",
       "483       US    78758                     TX   \n",
       "534       US    63131     Country Life Acres   \n",
       "900       US    10016                    Nyc   \n",
       "993       US    11215                     NY   \n",
       "1137      US    23233                     VA   \n",
       "2569      US    90292                     CA   \n",
       "2570      US    90292                     CA   \n",
       "2571      US    90292                     CA   \n",
       "2573      US    90292                     CA   \n",
       "\n",
       "                                             categories        menu item  \\\n",
       "226   Pizza Place,Take Out Restaurants,American Rest...            Pizza   \n",
       "483   Pizza,Take Out Restaurants,Restaurants,America...            Pizza   \n",
       "534   Pizza Place,Restaurants,Pizza,American Restaur...            Pizza   \n",
       "900                              Restaurant,Pizza Place            Pizza   \n",
       "993                   Bagel Shop,Bagel Shop South Slope  Steak Pizzaiola   \n",
       "1137                                        Pizza Place            Pizza   \n",
       "2569  Pizza,Italian Restaurant Marina del Rey,Italia...    Pizza Claudia   \n",
       "2570  Pizza,Italian Restaurant Marina del Rey,Italia...  Pizza Margarita   \n",
       "2571  Pizza,Italian Restaurant Marina del Rey,Italia...  Pizza Pepperoni   \n",
       "2573  Pizza,Italian Restaurant Marina del Rey,Italia...   Pizza Raviatta   \n",
       "\n",
       "      item value currency                                   item description  \\\n",
       "226       116.99      USD                                                NaN   \n",
       "483       116.99      USD                                                NaN   \n",
       "534       116.99      USD                                                NaN   \n",
       "900       118.99      USD                                                NaN   \n",
       "993       100.00      USD                                                NaN   \n",
       "1137      116.99      USD                                                NaN   \n",
       "2569      312.95      USD   Ham, anchovies, roasted peppers and black olives   \n",
       "2570      310.95      USD                                        Fresh basil   \n",
       "2571      311.95      USD                                                NaN   \n",
       "2573      312.95      USD  Fresh veal, roasted peppers, black olives and ...   \n",
       "\n",
       "      postcode_len  state_len  \n",
       "226              5         21  \n",
       "483              5          2  \n",
       "534              5         18  \n",
       "900              5          3  \n",
       "993              5          2  \n",
       "1137             5          2  \n",
       "2569             5          2  \n",
       "2570             5          2  \n",
       "2571             5          2  \n",
       "2573             5          2  "
      ],
      "text/html": "<div>\n<style scoped>\n    .dataframe tbody tr th:only-of-type {\n        vertical-align: middle;\n    }\n\n    .dataframe tbody tr th {\n        vertical-align: top;\n    }\n\n    .dataframe thead th {\n        text-align: right;\n    }\n</style>\n<table border=\"1\" class=\"dataframe\">\n  <thead>\n    <tr style=\"text-align: right;\">\n      <th></th>\n      <th>name</th>\n      <th>address</th>\n      <th>city</th>\n      <th>country</th>\n      <th>postcode</th>\n      <th>state</th>\n      <th>categories</th>\n      <th>menu item</th>\n      <th>item value</th>\n      <th>currency</th>\n      <th>item description</th>\n      <th>postcode_len</th>\n      <th>state_len</th>\n    </tr>\n  </thead>\n  <tbody>\n    <tr>\n      <th>226</th>\n      <td>California Pizza Kitchen</td>\n      <td>10300 Forest Hill Blvd</td>\n      <td>Wellington</td>\n      <td>US</td>\n      <td>33414</td>\n      <td>Village Of Wellington</td>\n      <td>Pizza Place,Take Out Restaurants,American Rest...</td>\n      <td>Pizza</td>\n      <td>116.99</td>\n      <td>USD</td>\n      <td>NaN</td>\n      <td>5</td>\n      <td>21</td>\n    </tr>\n    <tr>\n      <th>483</th>\n      <td>California Pizza Kitchen</td>\n      <td>3401 Esperanza Xing</td>\n      <td>Austin</td>\n      <td>US</td>\n      <td>78758</td>\n      <td>TX</td>\n      <td>Pizza,Take Out Restaurants,Restaurants,America...</td>\n      <td>Pizza</td>\n      <td>116.99</td>\n      <td>USD</td>\n      <td>NaN</td>\n      <td>5</td>\n      <td>2</td>\n    </tr>\n    <tr>\n      <th>534</th>\n      <td>California Pizza Kitchen</td>\n      <td>109 W County Ctr</td>\n      <td>Saint Louis</td>\n      <td>US</td>\n      <td>63131</td>\n      <td>Country Life Acres</td>\n      <td>Pizza Place,Restaurants,Pizza,American Restaur...</td>\n      <td>Pizza</td>\n      <td>116.99</td>\n      <td>USD</td>\n      <td>NaN</td>\n      <td>5</td>\n      <td>18</td>\n    </tr>\n    <tr>\n      <th>900</th>\n      <td>California Pizza Kitchen - Nyc</td>\n      <td>440 Park Ave S</td>\n      <td>New York</td>\n      <td>US</td>\n      <td>10016</td>\n      <td>Nyc</td>\n      <td>Restaurant,Pizza Place</td>\n      <td>Pizza</td>\n      <td>118.99</td>\n      <td>USD</td>\n      <td>NaN</td>\n      <td>5</td>\n      <td>3</td>\n    </tr>\n    <tr>\n      <th>993</th>\n      <td>Terrace Bagel</td>\n      <td>222 And 222a Prospect W</td>\n      <td>Brooklyn</td>\n      <td>US</td>\n      <td>11215</td>\n      <td>NY</td>\n      <td>Bagel Shop,Bagel Shop South Slope</td>\n      <td>Steak Pizzaiola</td>\n      <td>100.00</td>\n      <td>USD</td>\n      <td>NaN</td>\n      <td>5</td>\n      <td>2</td>\n    </tr>\n    <tr>\n      <th>1137</th>\n      <td>California Pizza Kitchen</td>\n      <td>11800 W Broad St</td>\n      <td>Henrico</td>\n      <td>US</td>\n      <td>23233</td>\n      <td>VA</td>\n      <td>Pizza Place</td>\n      <td>Pizza</td>\n      <td>116.99</td>\n      <td>USD</td>\n      <td>NaN</td>\n      <td>5</td>\n      <td>2</td>\n    </tr>\n    <tr>\n      <th>2569</th>\n      <td>Eddie's Italian Restaurant</td>\n      <td>4002 Lincoln Blvd</td>\n      <td>Marina Del Rey</td>\n      <td>US</td>\n      <td>90292</td>\n      <td>CA</td>\n      <td>Pizza,Italian Restaurant Marina del Rey,Italia...</td>\n      <td>Pizza Claudia</td>\n      <td>312.95</td>\n      <td>USD</td>\n      <td>Ham, anchovies, roasted peppers and black olives</td>\n      <td>5</td>\n      <td>2</td>\n    </tr>\n    <tr>\n      <th>2570</th>\n      <td>Eddie's Italian Restaurant</td>\n      <td>4002 Lincoln Blvd</td>\n      <td>Marina Del Rey</td>\n      <td>US</td>\n      <td>90292</td>\n      <td>CA</td>\n      <td>Pizza,Italian Restaurant Marina del Rey,Italia...</td>\n      <td>Pizza Margarita</td>\n      <td>310.95</td>\n      <td>USD</td>\n      <td>Fresh basil</td>\n      <td>5</td>\n      <td>2</td>\n    </tr>\n    <tr>\n      <th>2571</th>\n      <td>Eddie's Italian Restaurant</td>\n      <td>4002 Lincoln Blvd</td>\n      <td>Marina Del Rey</td>\n      <td>US</td>\n      <td>90292</td>\n      <td>CA</td>\n      <td>Pizza,Italian Restaurant Marina del Rey,Italia...</td>\n      <td>Pizza Pepperoni</td>\n      <td>311.95</td>\n      <td>USD</td>\n      <td>NaN</td>\n      <td>5</td>\n      <td>2</td>\n    </tr>\n    <tr>\n      <th>2573</th>\n      <td>Eddie's Italian Restaurant</td>\n      <td>4002 Lincoln Blvd</td>\n      <td>Marina Del Rey</td>\n      <td>US</td>\n      <td>90292</td>\n      <td>CA</td>\n      <td>Pizza,Italian Restaurant Marina del Rey,Italia...</td>\n      <td>Pizza Raviatta</td>\n      <td>312.95</td>\n      <td>USD</td>\n      <td>Fresh veal, roasted peppers, black olives and ...</td>\n      <td>5</td>\n      <td>2</td>\n    </tr>\n  </tbody>\n</table>\n</div>"
     },
     "metadata": {},
     "execution_count": 26
    }
   ],
   "source": [
    "df_copy.loc[df_copy[\"item value\"]>90]"
   ]
  },
  {
   "cell_type": "code",
   "execution_count": 66,
   "metadata": {},
   "outputs": [
    {
     "output_type": "execute_result",
     "data": {
      "text/plain": [
       "cheese or pepperoni                                                                                      13\n",
       "with 2 cups of pizza sauce                                                                               10\n",
       "with up to 5 toppings, including specialties                                                             10\n",
       "three medium three topping pizzas                                                                        10\n",
       "boursin, mozzarella, arugula, parmesan                                                                   10\n",
       "                                                                                                         ..\n",
       "shredded romaine, caesar dressing, shredded parmesan cheese, marinated chicken                            1\n",
       "house made tomato sauce, fresh mozzarella, chopped garlic, sliced tomatoes, parmesan cheese and basil     1\n",
       "with our homemade sauce                                                                                   1\n",
       "pepperoni, sausage, ham, ground beef, canadian bacon                                                      1\n",
       "lunch meat, vegetables, chip bed of steak or chip chicken steak                                           1\n",
       "Name: item description, Length: 1212, dtype: int64"
      ]
     },
     "metadata": {},
     "execution_count": 66
    }
   ],
   "source": [
    "# Check if we have ingredient information in this dataset\n",
    "df_copy[\"item description\"].str.lower().value_counts()"
   ]
  },
  {
   "cell_type": "code",
   "execution_count": 68,
   "metadata": {},
   "outputs": [
    {
     "output_type": "execute_result",
     "data": {
      "text/plain": [
       "False    1089\n",
       "True      437\n",
       "Name: item description, dtype: int64"
      ]
     },
     "metadata": {},
     "execution_count": 68
    }
   ],
   "source": [
    "df_copy[\"item description\"].str.lower().str.contains(\"tomato\").value_counts()"
   ]
  },
  {
   "cell_type": "code",
   "execution_count": 48,
   "metadata": {},
   "outputs": [
    {
     "output_type": "execute_result",
     "data": {
      "text/plain": [
       "False    899\n",
       "True     627\n",
       "Name: item description, dtype: int64"
      ]
     },
     "metadata": {},
     "execution_count": 48
    }
   ],
   "source": [
    "df_copy[\"item description\"].str.lower().str.contains(\"cheese\").value_counts()"
   ]
  },
  {
   "source": [
    "- The item value column is correctly identified as float.\n",
    "- The entire dataset is from the US.\n",
    "- So I expected to see a 5 or 5+4 digit length postcodes, according to <https://en.wikipedia.org/wiki/ZIP_Code>. There are postcodes of 5, 4, 3, and 10, which fit the expected formats of `^\\d{5}$`, `^0\\d{4}$`, `^00\\d{3}$` and `^\\d{5}-\\d{4}$`.\n",
    "- I also expected to see state values of length 2 (2 letters), or something that looked like names. From the length, some seemed too long to be state names.\n",
    "- By doing a quick Google, I found that Lawrenceville is a city within Lawrence Township, but the former is down as a state and the latter the city. For Salt Lake City, it is down as both city and state, when it is a famous city in the state of Utah. The data entry is not very reliable for the state column.\n",
    "- The currency is consistent where it is not null.\n",
    "- All menu items for all rows mention pizza, but a third of them may not be about pizza.\n",
    "- I now have an idea what sort of pizzas we can try and model for.\n",
    "- The price range for menu items of these pizza restaurants are described here. Either there is a little bad data entry or there are some really expensive pizzas. We'll assume the latter.\n",
    "- The item description column has a low completion rate, is inconsistently populated, and we don't really know what ingredients are in there. I don't think this column is much use."
   ],
   "cell_type": "markdown",
   "metadata": {}
  },
  {
   "source": [
    "## What's a Hawaiian Pizza?\n",
    "\n",
    "We take the top popular pizzas (ignoring the generic \"Pizza\") here and seeing if we can understand what some of these popular items are.\n",
    "\n",
    "```\n",
    "Cheese Pizza               136\n",
    "White Pizza                 75\n",
    "Margherita Pizza            63\n",
    "Pizza                       62\n",
    "Hawaiian Pizza              54\n",
    "Bbq Chicken Pizza           47\n",
    "Buffalo Chicken Pizza       44\n",
    "Pepperoni Pizza             44\n",
    "Taco Pizza                  34\n",
    "Veggie Pizza                34\n",
    "Greek Pizza                 30\n",
    "Mexican Pizza               29\n",
    "Sicilian Pizza              24\n",
    "Vegetarian Pizza            21\n",
    "```"
   ],
   "cell_type": "markdown",
   "metadata": {}
  },
  {
   "cell_type": "code",
   "execution_count": 97,
   "metadata": {},
   "outputs": [
    {
     "output_type": "execute_result",
     "data": {
      "text/plain": [
       "69                                                                                           Fresh mozzarella and basil\n",
       "75                                                                                                                  NaN\n",
       "91                                                                                                                  NaN\n",
       "92                                                                              Brooklyn style. Square thick pan pizza.\n",
       "141                                                                                                                 NaN\n",
       "162                                                         Fresh basil, rich tomato sauce and fresh mozzarella cheese.\n",
       "343                                                                              Mozzarella cheese, marinara and basil.\n",
       "382                                                                                                                 NaN\n",
       "383                                                                                                                 NaN\n",
       "464                                                                                                                 NaN\n",
       "500                                                                                 Tomato, Basil, Garlic, Daiya Cheese\n",
       "603                                                             San Marzano tomato sauce, fresh mozzarella, basil, EVO.\n",
       "629                                        Fresh tomatoes, fresh mozzarella, garlic, and a touch of Parmesan and basil.\n",
       "657                                                                                                                 NaN\n",
       "711                                                     Fresh sliced tomatoes, fresh mozzarella slices and garden basil\n",
       "734                                                    Olive oil, italian seasonings, garlic, tomatoes, italian sausage\n",
       "906                                                                                                                 NaN\n",
       "933                                                                            Tomato, mozzarella, oregano, fresh basil\n",
       "934                                                                            Tomato, mozzarella, oregano, fresh basil\n",
       "950                                                                                                                 NaN\n",
       "965                                                                          buffalo mozzarella, pomodoro, garden basil\n",
       "1001                                                                                     Tomatoes, mozzarella and basil\n",
       "1002                                                                                                                NaN\n",
       "1047                                                                                                                NaN\n",
       "1158                                                                       Sliced tomatoes, fresh mozzarella, and basil\n",
       "1200                                                                                       Fresh mozzarella, torn basil\n",
       "1235                                                                                                                NaN\n",
       "1250                                                                     Fresh local mozzarella, basil, smoked sea salt\n",
       "1297                                                                                                                NaN\n",
       "1331                        Marinated cherry tomato, buffalo mozzarella, parmesan reggiano, roasted garlic, fresh basil\n",
       "1393                                                                                                                NaN\n",
       "1425                                                                Fresh mozzarella crushed tomato basil and olive oil\n",
       "1453                                                                                                                NaN\n",
       "1664                                                                                                                NaN\n",
       "1672                                                                                     Roma tomato, mozzarella, basil\n",
       "1740                                                                                                                NaN\n",
       "1757                                                    Fresh basil, fresh garlic, fresh tomatoes and mozzarella cheese\n",
       "1772                                                                                                                NaN\n",
       "1774                                                                                                                NaN\n",
       "1795                                     Homemade tomato jam, basil, fresh mozzarella, grilled crust, balsamic drizzle.\n",
       "1813                            roma tomatoes, garlic oil, fresh basil, mozzarella, parmesan and aged provolone cheeses\n",
       "1994           House Tomato Pizza Sauce, Mozzarella Cheese, Campari Tomatoes, Basil and Extra Virgin Sicilian Olive Oil\n",
       "2016                                    Fresh mozzarella, fresh basil, fresh garlic, tomato sauce, pepper and olive oil\n",
       "2098                                                                                                                NaN\n",
       "2115                                                                              mozzarella, san marzano tomato, basil\n",
       "2196                                                                                               mozzarella, tomatoes\n",
       "2245                                                                   Fresh Mozzarella, tomato, fresh basil, olive oil\n",
       "2252              house made tomato sauce, fresh mozzarella, chopped garlic, sliced tomatoes, parmesan cheese and basil\n",
       "2373                                                                                                                NaN\n",
       "2405                                                                                                                NaN\n",
       "2416                                                                    Tomato basil sauce, mozzarella cheese, reggiano\n",
       "2439                                                                                                                NaN\n",
       "2455                                                                                                                NaN\n",
       "2490                                                                                                                NaN\n",
       "2491                                                                                                                NaN\n",
       "2517                                                                          Basil, Marinara, Fresh Buffalo Mozzarella\n",
       "2578                                                                                                                NaN\n",
       "2582                                                                                                                NaN\n",
       "2650                               Roma tomato, olive oil, fresh basil, mozzarella, parmesan and aged provolone cheeses\n",
       "2696                                                        Fior di latte mozzarella, san marzano tomatoes, basil, EVOO\n",
       "2703                                                                     Roasted roma tomatoes, fresh mozzarella, basil\n",
       "2742                                                                                                                NaN\n",
       "2806                                                                                                                NaN\n",
       "2866                                                                                                                NaN\n",
       "2912                                                                                                                NaN\n",
       "3061    Roma and cherry tomatoes, roasted garlic, extra virgin olive oil, basil, fresh mozzarella and four cheese blend\n",
       "3140                                                                            san marzano sauce, fior di latte, basil\n",
       "3170                                                                                            Roasted tomatoes, basil\n",
       "3207                                                              crushed tomato, fior di latte mozzarella, basil, xvoo\n",
       "3224                                                                                                                NaN\n",
       "3241                                                                                                                NaN\n",
       "3318                                      Chunky tomato sauce, hand pulled mozzarella, basil and extra virgin olive oil\n",
       "3426                                                                                                                NaN\n",
       "3431                                                                                                                NaN\n",
       "3495                                                                                                                NaN\n",
       "Name: item description, dtype: object"
      ]
     },
     "metadata": {},
     "execution_count": 97
    }
   ],
   "source": [
    "df_copy[\"item description\"][df_copy[\"menu item\"].str.lower().str.contains(\"margherita pizza\")]"
   ]
  },
  {
   "cell_type": "code",
   "execution_count": 101,
   "metadata": {},
   "outputs": [
    {
     "output_type": "execute_result",
     "data": {
      "text/plain": [
       "                                                                                               NaN\n",
       "270                                                                                                                                                   Mozzarella, ricotta and parmesan cheeses\n",
       "280                                                                                                                                          Alfredo sauce, mozzarella, and provolone cheese .\n",
       "281                                                                                                      Provolone cheese, garlic, olive oil, sliced tomatoes (may substitute another topping)\n",
       "292                                                                                                                                                                                        NaN\n",
       "316                                                                                                                                                                     Mozzarella and Ricotta\n",
       "376                                                                                                                                                                                        NaN\n",
       "440                                                                                                                                                             Ricotta, Mozzarella and Garlic\n",
       "485                                                                                                                                                                                        NaN\n",
       "496                                                                                                                                       Garlic roll baked with mozzarella onions and tomato.\n",
       "536                                                                                                                                                                                        NaN\n",
       "542                                                                                                                                                                                        NaN\n",
       "663                                                                                                                                                                  With broccoli or tomatoes\n",
       "679     Our white pizza offers a break from the traditional pizza. it starts off with our own hand tossed dough, covered in aglio e olio sauce, then topped with mozzarella and ricotta cheese\n",
       "702                                                                                                                                                                                        NaN\n",
       "715                                                                                                                                                                          Traditional plain\n",
       "809                                                                                                                                                       Basil, tomato, garlic and mozzarella\n",
       "828                                                                                                                    Olive oil, fresh garlic, basil and oregano with your choice of toppings\n",
       "841                                                                                                                                        Mozzarella cheese, basil garlic, oregano, olive oil\n",
       "911                                                                                                                                                                                        NaN\n",
       "932                                                                                                                                                        With ricotta and mozzarella cheese.\n",
       "995                                                                                                                                                                                        NaN\n",
       "1007                                                                                                                                                                                       NaN\n",
       "1027                                                                                                                                                                                       NaN\n",
       "1042                                                                                                                                                                                       NaN\n",
       "1044                                                                                                                                                         Ricotta Cheese, Mozzarella Cheese\n",
       "1050                                                                                                                                                                                       NaN\n",
       "1096                                                                                                                                                                                       NaN\n",
       "1099                                                                                                                                                                                       NaN\n",
       "1140                                                                                                                                                                                       NaN\n",
       "1163                                                                                                                                                             Ricotta cheese and mozzarella\n",
       "1170                                                                                                                                                                                       NaN\n",
       "1190                                                                                                                                                                                       NaN\n",
       "1298                                                                                                                                                                                       NaN\n",
       "1317                                                                                                                                                                                       NaN\n",
       "1327                                                                                                                                                                                       NaN\n",
       "1345                                                                                                                                                                                       NaN\n",
       "1355                                                                                                                                                                                       NaN\n",
       "1356                                                                                                                                                                                       NaN\n",
       "1361                                                                                                                                                                                       NaN\n",
       "1362                                                                                                                                                                                       NaN\n",
       "1366                                                                                                                                                                                       NaN\n",
       "1414                                                                                                                                                                                       NaN\n",
       "1431                                                                                                                                                                                       NaN\n",
       "1432                                                                                                                                                                                       NaN\n",
       "1433                                                                                                                                                                                       NaN\n",
       "1465                                                                                                                           mozzarella and ricotta with broccoli, sauteed garlic, no sauce.\n",
       "1467                                                                                                                      Mozzarella cheese, ricotta and prosciutto, gourmet as gourmet can be\n",
       "1562                                                                                                                                                                                       NaN\n",
       "1614                                                                                                                                            Ricotta and parmesan cheese, garlic and herbs.\n",
       "1615                                                                                                                                                                                       NaN\n",
       "1616                                                                                                                                            Ricotta and parmesan cheese, garlic and herbs.\n",
       "1617                                                                                                                                            Ricotta and parmesan cheese, garlic and herbs.\n",
       "1629                                                                                                                           Bacon, Onions, Jumpin Good Goat Farms Feta, Thyme, Pepperoncini\n",
       "1663                                                                                                                                                                                       NaN\n",
       "1668                                                                                                                                                                                       NaN\n",
       "1681                                                                                              Ricotta cheese, pecorino romano cheese, mozzarella cheese and fresh garlic (no tomato sauce)\n",
       "1710                                                                                                                          Mozzarella, parmigiano, ricotto, Italian fontina and fresh basil\n",
       "1770                                                                                                                                                                                       NaN\n",
       "1809                                                                                                                                                                                       NaN\n",
       "1823                                                                                                                                                                                       NaN\n",
       "1945                                                                                                                                                                                       NaN\n",
       "1966                                                                                                                                                                                       NaN\n",
       "1974                                                                                                                                    Deep Dish Pie (no sauce, sauce available upon request)\n",
       "1980                                                                                                              Neopolitian White Pizza With Sauce or NO Sauce (Your choice, please specify)\n",
       "1983                                                                                                                                                                                       NaN\n",
       "2027                                                                                                                               Parmesan cheese, olive oil, fresh garlic, mozzarella cheese\n",
       "2028                                                                                                                               Parmesan cheese, olive oil, fresh garlic, mozzarella cheese\n",
       "2075                                                                                                                                                                                       NaN\n",
       "2112                                                                                                                                                                                       NaN\n",
       "2164                                                                                                                                                                                       NaN\n",
       "2178                                                                                                                                                                                       NaN\n",
       "2179                                                                                                                                                                                       NaN\n",
       "2187                                                                                                      Topped with seasoning and imported olive on same pricing as our conventional pizzas.\n",
       "2216                                                                                                                                           14 in. with Olive Oil, Fresh Garlic, and Cheese\n",
       "2385                                                                                                                                                                                       NaN\n",
       "2450                                                                                                                                                                                       NaN\n",
       "2453                                                                                                                         Olive Oil, Minced Garlic, Fresh Basil and Seasoned Ricotta Cheese\n",
       "2483                                                                                                      Pizza topped with your choice of nay five of our fresh vegetable toppings smothered.\n",
       "2484                                                                                                      Pizza topped with your choice of nay five of our fresh vegetable toppings smothered.\n",
       "2522                                                                                                                                            With Arugula, Pancetta, and Caramelized Onions\n",
       "2524                                                                                                                                With Fresh Mozzarella, Locatelli Romano and Asiago Cheeses\n",
       "2596                                                                                                                                                                                       NaN\n",
       "2624                                                                                                                                                                                       NaN\n",
       "2651                                                                                                      Topped with ricotta cheese, garlic, olive oil, mozzarella cheese, and fresh parsley.\n",
       "2717                                                                                                                                                                                       NaN\n",
       "2744                                                                                               Alfredo sauce, fresh spinach, red bell pepper, fresh garlic, broccoli and mozzarella cheese\n",
       "2746                                                                                             Extra virgin oil and fresh garlic with ricotta cheese as a base topped with our cheese blend.\n",
       "2781                                                                                                                                                                                       NaN\n",
       "2826                                                                                                                                                                                       NaN\n",
       "2840                                                                                                       Mozzarella cheese, ricotta cheese, garlic, fresh tomatoes, olive oil, fresh oregano\n",
       "2904                                                                                                               (No tomato sauce) Olive oil, garlic, basil, mozzarella, and ricotta cheese.\n",
       "3000                                                                                                                                                                                       NaN\n",
       "3009                                                                                                                                                                                       NaN\n",
       "3010                                                                                                                                                                                       NaN\n",
       "3048                                                                                                                                                                For all you cheese lovers.\n",
       "3103                                                                                                                                                                             With Broccoli\n",
       "3163                                                                                              Special blend of ricotta and mozzarella, grated cheese, italian spices, asiago and fontanina\n",
       "3187                                                                                                                                                            Ricotta, Mozzarella and Garlic\n",
       "3273                                                                                                                                                                                       NaN\n",
       "3295                                                                                                                     Alfredo sauce, smoked provolone, artichoke hearts, mushrooms, spinach\n",
       "3376                                                                                                                                                           Fresh tomato, garlic, and onion\n",
       "3437                                                                                                                                                                                       NaN\n",
       "3443                                                                                                                                   Ricotta and mozzarella cheese with a hint of olive oil.\n",
       "3509                                                                                                                                            ricotta, mozzarella, spinach, garlic, tomatoes\n",
       "Name: item description, dtype: object"
      ]
     },
     "metadata": {},
     "execution_count": 101
    }
   ],
   "source": [
    "df_copy[\"item description\"][df_copy[\"menu item\"].str.lower().str.contains(\"white pizza\")]"
   ]
  },
  {
   "cell_type": "code",
   "execution_count": null,
   "metadata": {},
   "outputs": [],
   "source": []
  }
 ]
}